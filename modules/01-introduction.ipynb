{
 "cells": [
  {
   "cell_type": "markdown",
   "id": "769d5009-ae7f-4054-81c0-5cd2563c8e4c",
   "metadata": {},
   "source": [
    "# Vault Workshop\n",
    "\n",
    "Welcome to the Vault workshop. Everything you need is provided in this environment. You should not require to install any additional tools.\n",
    "\n",
    "## Setup\n",
    "\n",
    "The workshop is provided in a way that enables the participant to easily follow along without the pain of setting up environments. At the beginning of each module, you will set up a Vault and configure it. This will provide you with the environment required to interact with the Vault instance. This module will guide you through these steps once, so that you are familiar with them.\n",
    "\n",
    "First, let's check the tooling version we have installed though. In the current version of the workshop, you should have:\n",
    "\n",
    "- Vault version 1.19.4\n",
    "- Terraform version 1.12.1\n",
    "\n",
    "If this is not the case, ensure you have the latest commit of the repository, or that you have pulled the correct Docker image."
   ]
  },
  {
   "cell_type": "code",
   "execution_count": null,
   "id": "784f4720-22ff-4816-a739-d839bb3f76f4",
   "metadata": {},
   "outputs": [],
   "source": [
    "vault -version\n",
    "terraform -version"
   ]
  },
  {
   "cell_type": "markdown",
   "id": "7173ef37-8af3-4b17-9561-3e10e4d26ae8",
   "metadata": {},
   "source": [
    "### Starting Vault\n",
    "\n",
    "Let us start a Vault server. This will run Vault in the background and push the logs to `/tmp/vault.log`. If at any point in time the Vault crashes, this command will need to be used again to re-launch the Vault server.\n",
    "\n",
    "For now, do not worry about the configuration with which we are starting the server. This will be covered in a separate module."
   ]
  },
  {
   "cell_type": "code",
   "execution_count": null,
   "id": "0a0f95ab-1589-4fed-ac2d-1c9bf7a6d458",
   "metadata": {},
   "outputs": [],
   "source": [
    "nohup bash -c '\n",
    "  vault server -config ../assets/vault/config.hcl\n",
    "' > /tmp/vault.log 2>&1 &\n",
    "echo $! > /tmp/vault.pid"
   ]
  },
  {
   "cell_type": "markdown",
   "id": "5b83e112-a5bf-4ea4-acaa-317cd94135dd",
   "metadata": {},
   "source": [
    "### Checking the Status\n",
    "\n",
    "Now that the Vault is up and running, we can check its status. We first set the address to connect to. In this case this is `http://localhost:8200`. Once this is done, we can query Vault for its status. Since we started Vault using a Shamir Seal, it should be sealed.\n",
    "\n",
    "If you get a \"connection refused\" error, ensure that the command above ran successfully or check the logs under `/tmp/vault.log` for more information.\n",
    "\n",
    "If the command runs successfully, it will still provide you with an exit code 2. This is expected, as the Vault is still in a sealed state."
   ]
  },
  {
   "cell_type": "code",
   "execution_count": null,
   "id": "b09c7b16-4af0-4df9-b54b-68d8a594f755",
   "metadata": {},
   "outputs": [],
   "source": [
    "export VAULT_ADDR=\"http://localhost:8200\"\n",
    "vault status"
   ]
  },
  {
   "cell_type": "markdown",
   "id": "276afac9-c590-4758-b7ae-511d372fb535",
   "metadata": {},
   "source": [
    "## Cleaning Up\n",
    "\n",
    "At the end of each module, you should clean up your Vault instance. This is done by shutting it down and wiping its database to restore its state."
   ]
  },
  {
   "cell_type": "code",
   "execution_count": null,
   "id": "66de3b6f-1737-4de1-9792-0d88edd06091",
   "metadata": {},
   "outputs": [],
   "source": [
    "kill $(cat /tmp/vault.pid)\n",
    "rm /tmp/vault/vault.db\n",
    "rm -r /tmp/vault/raft/\n",
    "rm /tmp/vault.log\n",
    "rm /tmp/vault.pid"
   ]
  },
  {
   "cell_type": "markdown",
   "id": "5facb249-996b-4c82-9867-9b87beac48c5",
   "metadata": {},
   "source": [
    "Perfect! You are now up to speed to get started with the other modules. Either follow them in order or just skip to whatever is of interest to you. All modules are available in the `modules/` directory in which you also found this notebook."
   ]
  },
  {
   "cell_type": "code",
   "execution_count": null,
   "id": "57a7dcc8-bac7-4c49-88ba-66b8ac69c01f",
   "metadata": {},
   "outputs": [],
   "source": []
  }
 ],
 "metadata": {
  "kernelspec": {
   "display_name": "Bash",
   "language": "bash",
   "name": "bash"
  },
  "language_info": {
   "codemirror_mode": "shell",
   "file_extension": ".sh",
   "mimetype": "text/x-sh",
   "name": "bash"
  }
 },
 "nbformat": 4,
 "nbformat_minor": 5
}
