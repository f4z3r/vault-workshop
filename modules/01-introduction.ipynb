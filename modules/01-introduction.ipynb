{
 "cells": [
  {
   "cell_type": "markdown",
   "id": "769d5009-ae7f-4054-81c0-5cd2563c8e4c",
   "metadata": {},
   "source": [
    "# Vault Workshop\n",
    "\n",
    "Welcome to the Vault workshop. Everything you need is provided in this environment. You should not require to install any additional tools.\n",
    "\n",
    "## Setup\n",
    "\n",
    "The workshop is provided in a way that enables the participant to easily follow along without the pain of setting up environments."
   ]
  },
  {
   "cell_type": "code",
   "execution_count": null,
   "id": "784f4720-22ff-4816-a739-d839bb3f76f4",
   "metadata": {},
   "outputs": [],
   "source": [
    "vault -version\n",
    "terraform -version"
   ]
  },
  {
   "cell_type": "markdown",
   "id": "7173ef37-8af3-4b17-9561-3e10e4d26ae8",
   "metadata": {},
   "source": [
    "### Starting Vault\n",
    "\n",
    "Let us start a Vault server. This will run Vault in the background and push the logs to `/tmp/vault.log`. If at any point in time the Vault crashes, this command will need to be used again to re-launch the Vault server."
   ]
  },
  {
   "cell_type": "code",
   "execution_count": null,
   "id": "0a0f95ab-1589-4fed-ac2d-1c9bf7a6d458",
   "metadata": {},
   "outputs": [],
   "source": [
    "nohup bash -c '\n",
    "  vault server -config ../assets/vault/config.hcl\n",
    "' > /tmp/vault.log 2>&1 &"
   ]
  },
  {
   "cell_type": "markdown",
   "id": "5b83e112-a5bf-4ea4-acaa-317cd94135dd",
   "metadata": {},
   "source": [
    "### Checking the Status\n",
    "\n",
    "Now that the Vault is up and running, we can check its status. We first set the address to connect to. In this case this is `http://localhost:8200`. Once this is done, we can query Vault for its status. Since we started Vault using a Shamir Seal, it should be sealed."
   ]
  },
  {
   "cell_type": "code",
   "execution_count": null,
   "id": "b09c7b16-4af0-4df9-b54b-68d8a594f755",
   "metadata": {},
   "outputs": [],
   "source": [
    "export VAULT_ADDR=\"http://localhost:8200\"\n",
    "vault status"
   ]
  },
  {
   "cell_type": "code",
   "execution_count": null,
   "id": "c6bcee9a-4da9-4f76-92b8-a5e60118f64d",
   "metadata": {},
   "outputs": [],
   "source": []
  }
 ],
 "metadata": {
  "kernelspec": {
   "display_name": "Bash",
   "language": "bash",
   "name": "bash"
  },
  "language_info": {
   "codemirror_mode": "shell",
   "file_extension": ".sh",
   "mimetype": "text/x-sh",
   "name": "bash"
  }
 },
 "nbformat": 4,
 "nbformat_minor": 5
}
