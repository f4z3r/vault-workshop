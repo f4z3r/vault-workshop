{
 "cells": [
  {
   "cell_type": "markdown",
   "id": "cd8060ab-fcb8-481a-bf52-eb4b95141984",
   "metadata": {},
   "source": [
    "# The Token Authentication Method\n",
    "\n",
    "The token authentication method is critical to understand with Vault, as it is the underlying authentication method powering all other authentication methods. In essence every call to Vault is either unauthenticated (meaning a user does not need to be logged-in to perform the action), or authenticated via a Vault token. Thus all other authentication methods essentially provide unauthenticated login endpoints which translate some form of credential (certificates, LDAP credentials, etc) into a Vault token.\n",
    "\n",
    "## Use Cases\n",
    "\n",
    "In the vast majority of cases the token authentiation method should not be used directly. This is because it is very basic, and provides an authentication that is local to Vault. In professional setups, one will want to use a managed identity or any other existing identity to authenticate to Vault.\n",
    "\n",
    "The only case where the token authentication method is commonly used is when authentication as a superuser using a root token. Nonetheless, due to the fact that tokens are the underlying logic for all other authentication methods, it is primordial to understand how this method works.\n",
    "\n",
    "### Starting Vault\n",
    "\n",
    "Let us start a Vault server. This will run Vault in the background and push the logs to `/tmp/vault.log`. If at any point in time the Vault crashes, this command will need to be used again to re-launch the Vault server.\n",
    "\n",
    "For now, do not worry about the configuration with which we are starting the server. This will be covered in a separate module."
   ]
  },
  {
   "cell_type": "code",
   "execution_count": null,
   "id": "bea5aaf3-598f-445e-9968-44cd3ec85c50",
   "metadata": {},
   "outputs": [],
   "source": [
    "nohup bash -c '\n",
    "  vault server -dev -dev-root-token-id=root-token -dev-listen-address=\"0.0.0.0:8200\"\n",
    "' > /tmp/vault.log 2>&1 &\n",
    "echo $! > /tmp/vault.pid"
   ]
  },
  {
   "cell_type": "markdown",
   "id": "dda2a37d-dc44-470c-b2f8-e91bc67cfac6",
   "metadata": {},
   "source": [
    "### Logging In\n",
    "\n",
    "We can login using a token with the CLI in one of two ways:\n",
    "\n",
    "1. The `vault login` command.\n",
    "2. Setting the `VAULT_TOKEN` environment variable.\n",
    "3. Fixing the Vault CLI cache by manually creating a `~/.vault-token` file.\n",
    "\n",
    "Let us try the first one. Typically, this would be done interactively so that the token does not get stored in the shell history. Due to limitations of Jupyter Notebooks, we will provide the token directly on the command line.\n",
    "\n",
    "Perform the following:\n",
    "\n",
    "1. Login using `vault login <token>`.\n",
    "2. Check the contents of the `~/.vault-token` file.\n",
    "\n",
    "The root token in our case is `root-token`."
   ]
  },
  {
   "cell_type": "code",
   "execution_count": null,
   "id": "02303fbd-01ff-46fe-9014-d81da7453c79",
   "metadata": {},
   "outputs": [],
   "source": [
    "# login\n",
    "export VAULT_ADDR=\"http://127.0.0.1:8200\"\n",
    "vault login root-token"
   ]
  },
  {
   "cell_type": "markdown",
   "id": "fd33c2e5-2270-44b4-ac14-f1895761b3cd",
   "metadata": {},
   "source": [
    "Note the metadata attached to the token. It has an accessor attached to it. This can be used to obtain information about the token without requiring knowledge of the token itself. On top of that, the token has an attached time-to-live to it. This is a finite duration after which the token becomes invalid. Here we have an exception with the root token, which is the only type of token allowed to be valid indefinitely. Finally, the token has policies attached to it, which grant permissions to perform some actions against the Vault.\n",
    "\n",
    "Now check the token cache:"
   ]
  },
  {
   "cell_type": "code",
   "execution_count": null,
   "id": "194655dd-a134-4f0c-8044-66326a5c146b",
   "metadata": {},
   "outputs": [],
   "source": [
    "cat ~/.vault-token"
   ]
  },
  {
   "cell_type": "markdown",
   "id": "e1015857-94e9-4dbd-b693-b95bd9669fe5",
   "metadata": {},
   "source": [
    "Essentially, the `vault login` command is just a convenience command which performs a token lookup (essentially retrieving the metadata of the token), and caching it on disk for subsequent CLI invokations.\n",
    "\n",
    "**ATTENTION**: this means that if you perform a `vault login` on a shared machine, people having access to your home directory will be able to read the token you used to authenticate to Vault! The same is true for other login commands of the CLI for other authentication methods. This is inherent to the fact that the CLI needs to store authentication information between invokations.\n",
    "\n",
    "### Lookups\n",
    "\n",
    "Token lookups can be done using either the token itself, or its accessor. Try this out using the token (`root-token`) and the accessor which was printed in the login above. The commands to do this is `vault token lookup`, and you need to provide the `-accessor` flag if providing an accessor."
   ]
  },
  {
   "cell_type": "code",
   "execution_count": null,
   "id": "b3e297a3-ffa5-416e-8f57-be7bdff4e62c",
   "metadata": {},
   "outputs": [],
   "source": [
    "vault token lookup ..."
   ]
  },
  {
   "cell_type": "markdown",
   "id": "b7a5b4c6-9323-4f8e-a43c-4404592a49d3",
   "metadata": {},
   "source": [
    "### Creating Tokens\n",
    "\n",
    "Now let us create some tokens. This can be done using the `vault token create` command. Familiarise yourself a little with the possible options. Specifically those under \"Command Options\"."
   ]
  },
  {
   "cell_type": "code",
   "execution_count": null,
   "id": "060eaf1b-7c47-4f65-8684-461023736cfa",
   "metadata": {},
   "outputs": [],
   "source": [
    "vault token create -h"
   ]
  },
  {
   "cell_type": "markdown",
   "id": "f4a8e611-4333-423f-acd3-522ab27da1d9",
   "metadata": {},
   "source": [
    "### Assigning Policies to Tokens\n",
    "\n",
    "Let us create a token with the following two policies `\"test\"` and `\"admin\"`. Note that it does not really matter that the policies do not exist."
   ]
  },
  {
   "cell_type": "code",
   "execution_count": null,
   "id": "7da30c41-0cb7-4e1d-9877-b661ff33e0d9",
   "metadata": {},
   "outputs": [],
   "source": [
    "vault token create ..."
   ]
  },
  {
   "cell_type": "markdown",
   "id": "9ba7304b-9338-4453-a3d5-d99e5a6aa6a7",
   "metadata": {},
   "source": [
    "### More Complex Tokens\n",
    "\n",
    "Note that there are quite a few options for the time-to-live (TTL). This can be a bit confusing initially. Generally:\n",
    "\n",
    "- The TTL provides the initial validity span of a token.\n",
    "- Tokens can however be renewed, providing additional time to live beyond the initial validity span.\n",
    "- The maximum explicit TTL provides a cap to how much a token can be renewed beyond its initial validity span.\n",
    "- In some cases, tokens should live \"forever\". Only root tokens have an infinite validity span though. However, using periodic tokens, one can create tokens that are valid forever, as long as the token is renewed within a set period.\n",
    "\n",
    "Now let us create a token with only the policy `\"test\"` but which only valid for 15 minutes and is not renewable.\n",
    "\n",
    "Create another token that is only valid for 5 minutes, but is renewable with a max TTL of 1 hour. Renew that token after some time with the `vault token renew` command. How is the new TTL of the token affected.\n",
    "\n",
    "> NOTE: the `\"default\"` policy that is attached to tokens by default enables the tokens to renew themselves.\n",
    "\n",
    "Finally create a periodic token with a period of 1 hour."
   ]
  },
  {
   "cell_type": "markdown",
   "id": "a87188fc-8059-4591-8eb1-6233a96a04dd",
   "metadata": {},
   "source": [
    "### Revoking Tokens\n",
    "\n",
    "But what happens if a token is leaked. You can revoke tokens using the `vault token revoke` command. This can again be performed using the accessor or the token itself. Try this out on one of the tokens you previously created that is still valid. Then perform a lookup and see that the token no longer exists."
   ]
  },
  {
   "cell_type": "code",
   "execution_count": null,
   "id": "14c18af1-e0e5-42d9-871c-7f62ac674069",
   "metadata": {},
   "outputs": [],
   "source": []
  },
  {
   "cell_type": "markdown",
   "id": "cf5701b7-3c4f-4128-a1c4-7e3877ec8c51",
   "metadata": {},
   "source": [
    "### Token Types\n",
    "\n",
    "Note that the tokens you created all started with `hvs.`. This prefix stands for \"HashiCorp Vault Service\", because these tokens are Service tokens. Vault as three types of tokens:\n",
    "\n",
    "- Service tokens (`hvs.`),\n",
    "- Batch tokens (`hvb.`),\n",
    "- Recovery tokens (`hvr.`).\n",
    "\n",
    "Using batch tokens is slightly more advanced, and not necessary for most use cases. They are mostly required if you are issuing massive amounts of tokens or require better performance. You can read more on token types here: https://developer.hashicorp.com/vault/docs/concepts/tokens#token-types-in-detail\n",
    "\n",
    "> NOTE: the root token is a standard service token. The only reason it is `root-token` in our exercises and thus does not have a prefix is because we are using a development Vault server in these exercises and override the root token to make it easier to handle it in the exercises. In practice it would be a service token like any other.\n",
    "\n",
    "If you want to give it a try, create a batch token:"
   ]
  },
  {
   "cell_type": "code",
   "execution_count": null,
   "id": "ad9fc162-eb4c-4fc2-ae6f-d8a64f86f476",
   "metadata": {},
   "outputs": [],
   "source": []
  },
  {
   "cell_type": "markdown",
   "id": "24418d7b-351d-4d28-be44-8d54ec8af1a2",
   "metadata": {},
   "source": [
    "## Cleaning Up\n",
    "\n",
    "At the end of each module, you should clean up your Vault instance. This is done by shutting it down and wiping its database to restore its state."
   ]
  },
  {
   "cell_type": "code",
   "execution_count": null,
   "id": "688d03ac-7f87-4503-9bcc-0dbf34635265",
   "metadata": {},
   "outputs": [],
   "source": [
    "kill $(cat /tmp/vault.pid)\n",
    "rm /tmp/vault.log\n",
    "rm /tmp/vault.pid"
   ]
  }
 ],
 "metadata": {
  "kernelspec": {
   "display_name": "Bash",
   "language": "bash",
   "name": "bash"
  },
  "language_info": {
   "codemirror_mode": "shell",
   "file_extension": ".sh",
   "mimetype": "text/x-sh",
   "name": "bash"
  }
 },
 "nbformat": 4,
 "nbformat_minor": 5
}
