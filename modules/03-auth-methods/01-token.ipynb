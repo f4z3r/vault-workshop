{
 "cells": [
  {
   "cell_type": "code",
   "execution_count": null,
   "id": "b1c9a0be-d5c9-4ee6-bc5a-40210ecdac6a",
   "metadata": {},
   "outputs": [],
   "source": []
  }
 ],
 "metadata": {
  "kernelspec": {
   "display_name": "Bash",
   "language": "bash",
   "name": "bash"
  },
  "language_info": {
   "codemirror_mode": "shell",
   "file_extension": ".sh",
   "mimetype": "text/x-sh",
   "name": "bash"
  }
 },
 "nbformat": 4,
 "nbformat_minor": 5
}
