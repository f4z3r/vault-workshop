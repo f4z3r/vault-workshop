{
 "cells": [
  {
   "cell_type": "code",
   "execution_count": null,
   "id": "fdd4c636-69a3-4573-a2b6-edf5666baf7e",
   "metadata": {},
   "outputs": [],
   "source": []
  }
 ],
 "metadata": {
  "kernelspec": {
   "display_name": "Bash",
   "language": "bash",
   "name": "bash"
  },
  "language_info": {
   "codemirror_mode": "shell",
   "file_extension": ".sh",
   "mimetype": "text/x-sh",
   "name": "bash"
  }
 },
 "nbformat": 4,
 "nbformat_minor": 5
}
