{
 "cells": [
  {
   "cell_type": "markdown",
   "id": "35bbd123-a431-4ef2-a823-328dd2e6732c",
   "metadata": {},
   "source": [
    "# LDAP Auth Method\n",
    "\n",
    "Vault is an API driven software component aimed at automation. Thus most authentications to Vault are performed via machines, using authentication methods such as JWT or mTLS. However, Vault needs to be operated and secured by people. Moreover, it is not too uncommon to see Vault used as a \"glorified shared password manager\" and thus requires human users to authenticate to it.\n",
    "\n",
    "While other solutions exist that enable SSO (e.g. OIDC or Kerberos), a very common way to authenticate human users to Vault is via LDAP. This is mostly due to the fact that its setup is very straight forward, and typically flexible enough. In this module we will have a look at LDAP authentication.\n",
    "\n",
    "In case you are not familiar with it, LDAP is a protocol that enables you to communicate with directory servers, such as Microsoft Active Directory (AD). Such directory servers (often also called domain controllers in the Windows world) store information about entities within an organisation. They typically have an internal representation of the organisation's structure, and all its employees within that structure. Domain controllers are used to store much more than human users and org structures, but this is what we will focus on in this module.\n",
    "\n",
    "Directory servers typically contain user information such as usernames, group membership, and a password. This enables Vault to effectively delegate authentication of a user to such a server (via LDAP). After successful authentication, the group membership can then be used to grant permissions to a user. This is very convenient, as joiner/leaver/mover processes are typically implemented on such servers, meaning that new employees are automatically onboarded to Vault as soon as they are added to some groups within the directory server.\n",
    "\n",
    "If this is slightly unclear, either have a read on [directory services](https://en.wikipedia.org/wiki/Directory_service) and [LDAP](https://en.wikipedia.org/wiki/Lightweight_Directory_Access_Protocol), or just move on and discover it as we go along.\n",
    "\n",
    "### Starting Vault\n",
    "\n",
    "Let us start a Vault server. This will run Vault in the background and push the logs to `/tmp/vault.log`. If at any point in time the Vault crashes, this command will need to be used again to re-launch the Vault server.\n",
    "\n",
    "For now, do not worry about the configuration with which we are starting the server. This will be covered in a separate module."
   ]
  },
  {
   "cell_type": "code",
   "execution_count": null,
   "id": "dc878a96-75ce-42d7-9e82-0634f45d77f5",
   "metadata": {},
   "outputs": [],
   "source": [
    "nohup bash -c '\n",
    "  vault server -dev -dev-root-token-id=root-token -dev-listen-address=\"0.0.0.0:8200\"\n",
    "' > /tmp/vault.log 2>&1 &\n",
    "echo $! > /tmp/vault.pid"
   ]
  },
  {
   "cell_type": "markdown",
   "id": "63ea388c-26cd-4c5d-aa5d-b4e7a572e7fc",
   "metadata": {},
   "source": [
    "### Preparing the LDAP Server\n",
    "\n",
    "Before we can started with this module, we will need to have a directory service up and running. Let us start one."
   ]
  },
  {
   "cell_type": "code",
   "execution_count": null,
   "id": "8a161049-d9b6-4092-b9be-0020d8c8c95a",
   "metadata": {},
   "outputs": [],
   "source": [
    "docker run --detach --rm --name openldap \\\n",
    "  --network kind \\\n",
    "  -e LDAP_ADMIN_USERNAME=admin \\\n",
    "  -e LDAP_ADMIN_PASSWORD=admin \\\n",
    "  -e LDAP_ROOT=dc=example,dc=org \\\n",
    "  -e LDAP_ADMIN_DN=cn=admin,dc=example,dc=org \\\n",
    "  -p 1389:1389 \\\n",
    "  bitnami/openldap:2.6.9-debian-12-r16"
   ]
  },
  {
   "cell_type": "markdown",
   "id": "aa59db95-a17d-4099-a93f-0ee5db2641c3",
   "metadata": {},
   "source": [
    "### Investigating the Structure\n",
    "\n",
    "The above command started an OpenLDAP directory server with some pre-configured data for us. It configured the following:\n",
    "\n",
    "- A base domain of `example.org`.\n",
    "- An admin user with password `admin`, whose distinguished name is `cn=admin,dc=example,dc=org`. These names are essentially a unique reference to a directory element. See more information [here](https://learn.microsoft.com/en-us/previous-versions/windows/desktop/ldap/distinguished-names) if you are interested.\n",
    "- Two users, `cn=user01,ou=users,dc=example,dc=org` and `cn=user02,ou=users,dc=example,dc=org` with password `bitnami1` and `bitnami2` respectively.\n",
    "- A group `cn=readers,ou=groups,dc=example,dc=org` which contains both users above.\n",
    "\n",
    "Have a look at this structure by executing the command below:\n",
    "\n",
    "> NOTE: a copy of the output can be found under `assets/base.ldif` for reference as well."
   ]
  },
  {
   "cell_type": "code",
   "execution_count": null,
   "id": "acf8bbe0-609b-4134-b8b2-a59af79b787c",
   "metadata": {},
   "outputs": [],
   "source": [
    "if [ -f /.dockerenv ]; then\n",
    "    export DIR_SER_ADDR=openldap\n",
    "else\n",
    "    export DIR_SER_ADDR=\"127.0.0.1\"\n",
    "fi\n",
    "ldapsearch -x -H \"ldap://${DIR_SER_ADDR}:1389\" -b \"dc=example,dc=org\""
   ]
  },
  {
   "cell_type": "markdown",
   "id": "64f2f07f-889a-429a-a62e-5b0f3a8427ca",
   "metadata": {},
   "source": [
    "### Setup Up the AuthN Method\n",
    "\n",
    "We are now at a point where most operators would start configuring the Vault. The directory servers are typically something that is pre-existing in the organisation. Now in order to configure authentication, we will need to enable the authentication method. We will then need to configure Vault to connect to the directory server located at a specific address and using a so called bind DN (a fancy word for user). On top of that, since directory servers are extremely flexible in terms of how they can be structured internally, we will need to tell Vault where in the structure it can find users, where it can find groups, and then define a mapping between such a group and permissions on the Vault.\n",
    "\n",
    "Let us first enable the [authentication method](https://developer.hashicorp.com/vault/docs/auth/ldap):"
   ]
  },
  {
   "cell_type": "code",
   "execution_count": null,
   "id": "bcd12126-1428-4340-b079-40c46adb45a7",
   "metadata": {},
   "outputs": [],
   "source": [
    "# login\n",
    "export VAULT_ADDR=\"http://127.0.0.1:8200\"\n",
    "vault login root-token\n",
    "# enable the method\n",
    "vault auth enable ldap"
   ]
  },
  {
   "cell_type": "markdown",
   "id": "43ce670b-1e91-4806-948d-fb1e37842bb3",
   "metadata": {},
   "source": [
    "### Configuring the Connection\n",
    "\n",
    "We now need to tell Vault where to find the directory server. Since our OpenLDAP server is not secured via a TLS certificate, we will also need to tell Vault to accept this configuration. Generally we will set:\n",
    "\n",
    "- DiscoverDN: tells Vault to connect anonymously to the LDAP server and find the UserDN that way. This is often allowed in actual LDAP servers.\n",
    "- URL: the url under which to find the OpenLDAP server.\n",
    "- Insecure: we do not want to connect via TLS.\n",
    "- UserDN: where in the directory server structure to look for user objects.\n",
    "- UserAttr: what attribute of a user object to use as the username.\n",
    "- GroupDN: where in the directory server structure to look for group objects.\n",
    "- Group Filter: how to filter which groups a user belongs to. Don't worry if you don't understand this, it is OpenLDAP black magic. It essentially says that a user is part of a group if the UserDN is listed under the `member`s fields of the group.\n",
    "- GroupAttr: what attribute of a group object to use as the group name.\n",
    "- Token no default policy: do not assign default policies to tokens that login in via this authentication method by default. This is necessary to ensure that users that are not part of any group do not get a token with default policies."
   ]
  },
  {
   "cell_type": "code",
   "execution_count": null,
   "id": "e7598832-bd44-463d-b845-c2a710e17467",
   "metadata": {},
   "outputs": [],
   "source": [
    "vault write auth/ldap/config \\\n",
    "  discoverdn=true \\\n",
    "  url=\"ldap://${DIR_SER_ADDR}:1389\" \\\n",
    "  insecure_tls=true \\\n",
    "  userdn=\"ou=users,dc=example,dc=org\" \\\n",
    "  userattr=\"cn\" \\\n",
    "  groupdn=\"ou=groups,dc=example,dc=com\" \\\n",
    "  groupfilter=\"(&(objectClass=group)(member:1.2.840.113556.1.4.1941:={{.UserDN}}))\" \\\n",
    "  groupattr=\"cn\" \\\n",
    "  token_no_default_policy=true"
   ]
  },
  {
   "cell_type": "markdown",
   "id": "2ae4debc-5f51-4091-aec6-4db934c95983",
   "metadata": {},
   "source": [
    "### Granting Permissions\n",
    "\n",
    "Before we can attempt a login, we need to ensure that we somehow link a group membership to a set of permissions. This is much simpler than the configuration of the method, do not worry. This is done by creating a LDAP group on the Vault and providing a set of policies. The group in Vault must simply match the name of the group in the LDAP server (in our case `readers`).\n",
    "\n",
    "Configure the `readers` group to be granted the `read-all` policy when login in. The "
   ]
  },
  {
   "cell_type": "code",
   "execution_count": null,
   "id": "9540a167-4c29-4c96-9e21-92e91c86a2e2",
   "metadata": {},
   "outputs": [],
   "source": [
    "vault write auth/ldap/groups/<group> \\\n",
    "  policies=\"<policy>\""
   ]
  },
  {
   "cell_type": "markdown",
   "id": "c681040c-296d-40ae-b426-2c24b9b89e5e",
   "metadata": {},
   "source": [
    "### Login\n",
    "\n",
    "Now let us attempt a login with a user. Note that typically only the first CN can be used as the username if several are defined in the directory server."
   ]
  },
  {
   "cell_type": "code",
   "execution_count": null,
   "id": "43c98a3f-d5b0-4ed9-ae18-4ebc4c79e581",
   "metadata": {},
   "outputs": [],
   "source": [
    "vault login -method=ldap username=<user> password=<password>"
   ]
  },
  {
   "cell_type": "markdown",
   "id": "454a0694-ced1-4da2-8a5d-e5466f9e2197",
   "metadata": {},
   "source": [
    "### ADVANCED: Adding Users to Groups\n",
    "\n",
    "You can also add users to groups manually within Vault. This is especially important when users are part of several groups and you want to grant them permissions from several groups, or you want to add a user that is not part of some group on the Directory Server but you still want to authenticate using the LDAP authentication method.\n",
    "\n",
    "Have a look at the API documentation of the user endpoints: https://developer.hashicorp.com/vault/api-docs/auth/ldap#create-update-ldap-user\n",
    "\n",
    "Perform the following:\n",
    "\n",
    "1. Create an additional group on the LDAP server which includes some new users, and one of the existing users.\n",
    "2. Onboard the new group on Vault providing it with a different policy.\n",
    "3. Login with the user that is in both groups and check the granted policies.\n",
    "4. Create a new user that is not a member of any group. Onboard it on the Vault using the LDAP authentication method and login using its credentials."
   ]
  },
  {
   "cell_type": "markdown",
   "id": "46a82b7a-0aaf-4b02-be11-8a1383166a22",
   "metadata": {},
   "source": [
    "### Cleaning Up\n",
    "\n",
    "At the end of each module, you should clean up your Vault instance. This is done by shutting it down and wiping its database to restore its state."
   ]
  },
  {
   "cell_type": "code",
   "execution_count": null,
   "id": "1aa644eb-68c8-4916-8b53-810f22caaf46",
   "metadata": {},
   "outputs": [],
   "source": [
    "kill $(cat /tmp/vault.pid)\n",
    "rm /tmp/vault.log\n",
    "rm /tmp/vault.pid\n",
    "docker stop openldap"
   ]
  }
 ],
 "metadata": {
  "kernelspec": {
   "display_name": "Bash",
   "language": "bash",
   "name": "bash"
  },
  "language_info": {
   "codemirror_mode": "shell",
   "file_extension": ".sh",
   "mimetype": "text/x-sh",
   "name": "bash"
  }
 },
 "nbformat": 4,
 "nbformat_minor": 5
}
