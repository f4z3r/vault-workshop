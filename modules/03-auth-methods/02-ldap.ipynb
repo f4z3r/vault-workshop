{
 "cells": [
  {
   "cell_type": "markdown",
   "id": "35bbd123-a431-4ef2-a823-328dd2e6732c",
   "metadata": {},
   "source": [
    "# LDAP Auth Method\n",
    "\n",
    "Vault is an API driven software component aimed at automation. Thus most authentications to Vault are performed via machines, using authentication methods such as JWT or mTLS. However, Vault needs to be operated and secured by people. Moreover, it is not too uncommon to see Vault used as a \"glorified shared password manager\" and thus requires human users to authenticate to it.\n",
    "\n",
    "While other solutions exist that enable SSO (e.g. OIDC or Kerberos), a very common way to authenticate human users to Vault is via LDAP. This is mostly due to the fact that its setup is very straight forward, and typically flexible enough. In this module we will have a look at LDAP authentication.\n",
    "\n",
    "In case you are not familiar with it, LDAP is a protocol that enables you to communicate with directory servers, such as Microsoft Active Directory (AD). Such directory servers (often also called domain controllers in the Windows world) store information about entities within an organisation. They typically have an internal representation of the organisation's structure, and all its employees within that structure. Domain controllers are used to store much more than human users and org structures, but this is what we will focus on in this module.\n",
    "\n",
    "Directory servers typically contain user information such as usernames, group membership, and a password. This enables Vault to effectively delegate authentication of a user to such a server (via LDAP). After successful authentication, the group membership can then be used to grant permissions to a user. This is very convenient, as joiner/leaver/mover processes are typically implemented on such servers, meaning that new employees are automatically onboarded to Vault as soon as they are added to some groups within the directory server.\n",
    "\n",
    "If this is slightly unclear, either have a read on [directory services](https://en.wikipedia.org/wiki/Directory_service) and [LDAP](https://en.wikipedia.org/wiki/Lightweight_Directory_Access_Protocol), or just move on and discover it as we go along.\n",
    "\n",
    "### Starting Vault\n",
    "\n",
    "Let us start a Vault server. This will run Vault in the background and push the logs to `/tmp/vault.log`. If at any point in time the Vault crashes, this command will need to be used again to re-launch the Vault server.\n",
    "\n",
    "For now, do not worry about the configuration with which we are starting the server. This will be covered in a separate module."
   ]
  },
  {
   "cell_type": "code",
   "execution_count": null,
   "id": "dc878a96-75ce-42d7-9e82-0634f45d77f5",
   "metadata": {},
   "outputs": [],
   "source": [
    "nohup bash -c '\n",
    "  vault server -dev -dev-root-token-id=root-token -dev-listen-address=\"0.0.0.0:8200\"\n",
    "' > /tmp/vault.log 2>&1 &\n",
    "echo $! > /tmp/vault.pid"
   ]
  },
  {
   "cell_type": "markdown",
   "id": "63ea388c-26cd-4c5d-aa5d-b4e7a572e7fc",
   "metadata": {},
   "source": [
    "### Preparing the LDAP Server\n",
    "\n",
    "Before we can started with this module, we will need to have a directory service up and running. Let us start one."
   ]
  },
  {
   "cell_type": "code",
   "execution_count": null,
   "id": "8a161049-d9b6-4092-b9be-0020d8c8c95a",
   "metadata": {},
   "outputs": [],
   "source": [
    "docker run --detach --rm --name openldap \\\n",
    "  --network kind \\\n",
    "  -e LDAP_ADMIN_USERNAME=admin \\\n",
    "  -e LDAP_ADMIN_PASSWORD=admin \\\n",
    "  -e LDAP_ROOT=dc=example,dc=org \\\n",
    "  -e LDAP_ADMIN_DN=cn=admin,dc=example,dc=org \\\n",
    "  -p 1389:1389 \\\n",
    "  bitnami/openldap:2.6.9-debian-12-r16@sha256:907bfb47ef60895427018fa7c19c4d3961624d97e5ce50a41a44c2a63745771b"
   ]
  },
  {
   "cell_type": "markdown",
   "id": "aa59db95-a17d-4099-a93f-0ee5db2641c3",
   "metadata": {},
   "source": [
    "### Investigating the Structure\n",
    "\n",
    "The above command started an OpenLDAP directory server with some pre-configured data for us. It configured the following:\n",
    "\n",
    "- A base domain of `example.org`.\n",
    "- An admin user with password `admin`, whose distinguished name is `cn=admin,dc=example,dc=org`. These names are essentially a unique reference to a directory element. See more information [here](https://learn.microsoft.com/en-us/previous-versions/windows/desktop/ldap/distinguished-names) if you are interested.\n",
    "- Two users, `cn=user01,ou=users,dc=example,dc=org` and `cn=user02,ou=users,dc=example,dc=org` with password `bitnami1` and `bitnami2` respectively.\n",
    "- A group `cn=readers,ou=groups,dc=example,dc=org` which contains both users above.\n",
    "\n",
    "Have a look at this structure by executing the command below:"
   ]
  },
  {
   "cell_type": "code",
   "execution_count": null,
   "id": "acf8bbe0-609b-4134-b8b2-a59af79b787c",
   "metadata": {},
   "outputs": [],
   "source": [
    "# Test this when running inside the docker ... does it connect?\n",
    "ldapsearch -x -H \"ldap://127.0.0.1:1389\" -b \"dc=example,dc=org\""
   ]
  },
  {
   "cell_type": "markdown",
   "id": "46a82b7a-0aaf-4b02-be11-8a1383166a22",
   "metadata": {},
   "source": [
    "### Cleaning Up\n",
    "\n",
    "At the end of each module, you should clean up your Vault instance. This is done by shutting it down and wiping its database to restore its state."
   ]
  },
  {
   "cell_type": "code",
   "execution_count": null,
   "id": "1aa644eb-68c8-4916-8b53-810f22caaf46",
   "metadata": {},
   "outputs": [],
   "source": [
    "kill $(cat /tmp/vault.pid)\n",
    "rm /tmp/vault.log\n",
    "rm /tmp/vault.pid\n",
    "docker stop openldap"
   ]
  },
  {
   "cell_type": "code",
   "execution_count": null,
   "id": "f0081872-ebe9-4514-8c23-4409bddbc0d1",
   "metadata": {},
   "outputs": [],
   "source": []
  }
 ],
 "metadata": {
  "kernelspec": {
   "display_name": "Bash",
   "language": "bash",
   "name": "bash"
  },
  "language_info": {
   "codemirror_mode": "shell",
   "file_extension": ".sh",
   "mimetype": "text/x-sh",
   "name": "bash"
  }
 },
 "nbformat": 4,
 "nbformat_minor": 5
}
