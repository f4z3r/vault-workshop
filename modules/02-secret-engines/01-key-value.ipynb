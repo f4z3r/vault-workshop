{
 "cells": [
  {
   "cell_type": "markdown",
   "id": "ac1cd31e-cb41-467c-a796-40b8a47812fb",
   "metadata": {},
   "source": [
    "# The Key-Value Secret Engine\n",
    "\n",
    "This is the most commonly used secret engine in HashiCorp Vault. It enables the storage of arbitrary static blobs of data. It can thus be seen as a sort of password manager, except that it can be accessed and managed fully programatically.\n",
    "\n",
    "## Use Cases\n",
    "\n",
    "Typical use cases for the KV (Key-Value) secret engine are:\n",
    "\n",
    "- Centralized password manager for a team. This is especially interesting if the team already has Vault in place and wants to take advantages of operational synergies (backups, versioning, etc).\n",
    "- Distribution of secrets for systems that are not integrated into Vault, nor with an IdP. For instance you might have an external system that does not support an integration with Vault or your standard identity provider. You will thus not use any form of dynamic credential system, but instead store the credential in a Vault KV engine. From there, the credential can be distributed to the application that requires it at runtime via the wide range of integrations supported by Vault.\n",
    "\n",
    "### Starting Vault\n",
    "\n",
    "Let us start a Vault server. This will run Vault in the background and push the logs to `/tmp/vault.log`. If at any point in time the Vault crashes, this command will need to be used again to re-launch the Vault server.\n",
    "\n",
    "For now, do not worry about the configuration with which we are starting the server. This will be covered in a separate module."
   ]
  },
  {
   "cell_type": "code",
   "execution_count": null,
   "id": "00ed6832-64cc-4b3c-b598-68a2626705c9",
   "metadata": {},
   "outputs": [],
   "source": [
    "nohup bash -c '\n",
    "  vault server -dev -dev-root-token-id=root-token\n",
    "' > /tmp/vault.log 2>&1 &\n",
    "echo $! > /tmp/vault.pid"
   ]
  },
  {
   "cell_type": "markdown",
   "id": "2e5de665-2dba-4987-b469-dc65fa0c502b",
   "metadata": {},
   "source": [
    "### Login to Vault\n",
    "\n",
    "Let us login to Vault. We started a development version vor simplicity."
   ]
  },
  {
   "cell_type": "code",
   "execution_count": null,
   "id": "411810be-8377-41d0-8dfb-00c4874a9de7",
   "metadata": {},
   "outputs": [],
   "source": [
    "export VAULT_ADDR=\"http://127.0.0.1:8200\"\n",
    "vault login root-token"
   ]
  },
  {
   "cell_type": "markdown",
   "id": "92627961-ab53-40a2-a448-4830d3a7e5c2",
   "metadata": {},
   "source": [
    "### Enabling the KV Secrets Engine\n",
    "\n",
    "As with all operations with Vault, enabling the KV secrets engine is done via the API. The CLI can be used to avoid having to call the API directly and provides a nicer way to interact with the API. Some operations, enabling secrets engines included, can also be performed over the web UI. **This is not the case for all operations**. Enabling a secrets engine via the CLI is extremely simple:\n",
    "\n",
    "```bash\n",
    "vault secrets enable -path=/my-secret-store/ -version=2 kv\n",
    "```\n",
    "\n",
    "This would enable a KV secrets engine (version 2, such that secrets versioning and more features are supported) on the `/my-secret-store/` path of the API.\n",
    "\n",
    "Let us instead do this via the UI:\n",
    "\n",
    "1. Navigate to `http://localhost:8200` in your browser.\n",
    "2. Login using `root-token` as the token.\n",
    "3. Click on \"Secrets Engines\" and then \"Enable new engine +\":\n",
    "   ![](./assets/img/enable-secrets-engine.png)\n",
    "4. Choose \"KV\".\n",
    "5. Enter the path under which we want to publish the engine as \"my-secret-store\" and create the engine. You can also have a look at the advanced configuration. The version 2 is the default, hence why we do not provide it here explicitly:\n",
    "   ![](./assets/img/kv-creation-screen.png)\n",
    "\n",
    "Once you have performed this, you will be in the secret engine, and see that there are not secrets in there yet. Enough UI, let us get back to the CLI:"
   ]
  },
  {
   "cell_type": "code",
   "execution_count": null,
   "id": "ebf50ddb-43f5-43a0-994a-2353abaf414b",
   "metadata": {},
   "outputs": [],
   "source": [
    "# list the secrets engines, check that our new one is there\n",
    "vault secrets list"
   ]
  },
  {
   "cell_type": "markdown",
   "id": "aa44aca9-8279-4140-8ba9-c81859664d8b",
   "metadata": {},
   "source": [
    "Note that there are quite a few other secrets engines already there. The following engines are \"system engines\" and will always be present:\n",
    "\n",
    "- `sys`: system endpoints to administer Vault.\n",
    "- `identity`: an identity store to enable identity mappings within Vault.\n",
    "\n",
    "The `cubbyhole` engine is very often there as well. It is a per token temporary KV engine. This means that this data is persisted there for your token. As soon as your token expires, the data in there will be wiped. It can be used for temporary work, but in practice is not often used. This can be disabled by policies such that tokens do not get access to their cubbyhole engine.\n",
    "\n",
    "The `secret` engine is another KV engine. This is setup automatically in development setups by Vault. In practice it would not be there for \"normal\" deployments. Let us remove it:"
   ]
  },
  {
   "cell_type": "code",
   "execution_count": null,
   "id": "b760ec7e-6a11-4366-85f1-8965d403ba50",
   "metadata": {},
   "outputs": [],
   "source": [
    "vault secrets disable secret/"
   ]
  },
  {
   "cell_type": "markdown",
   "id": "caae3a72-6f4c-4afc-a3e0-ef5f447eb3df",
   "metadata": {},
   "source": [
    "### Writing and Reading Secrets\n",
    "\n",
    "Now let us populate the `my-secret-store` engine with secrets. This can be done very easily with the `vault kv` subcommand. We will need to provide the command with the engine we want to talk to using the `-mount=my-secret-store` flag, and then `put <name> <field1>=<value1>` to create a secret. Note that you can provide several fields.\n",
    "\n",
    "Create two secrets in your engine:\n",
    "\n",
    "1. One with name `database` with fields `host`, `username`, and `password`. Use dummy strings for the values.\n",
    "2. One with name `teams/cloud-operations/app/portal-frontend/stage/prod/api-token` with field `token` and value `test`."
   ]
  },
  {
   "cell_type": "code",
   "execution_count": null,
   "id": "61df332c-7725-4b69-8304-3c66305b9c79",
   "metadata": {},
   "outputs": [],
   "source": [
    "# show help to see how to use this\n",
    "vault kv put -mount=my-secret-store -h"
   ]
  },
  {
   "cell_type": "code",
   "execution_count": null,
   "id": "53d67a1b-a083-428f-8e8c-923c373413bb",
   "metadata": {},
   "outputs": [],
   "source": [
    "vault kv put -mount=my-secret-store ..."
   ]
  },
  {
   "cell_type": "markdown",
   "id": "2cc11a63-f9a6-4d60-ad83-6bea0824810c",
   "metadata": {},
   "source": [
    "### Explore using the UI\n",
    "\n",
    "Use the UI to explore the secrets engine. You will see that secrets that have slashes in their name are handled like a path in Vault. This means that you can create structures in your Vault, such as we did for the second secret. Having a good structure is critical for permission management. For more information on this, check the module on policies.\n",
    "\n",
    "1. Go on the UI and check out the secrets.\n",
    "2. Investigate the information that is available to you, such as secret metadata, version history, etc."
   ]
  },
  {
   "cell_type": "markdown",
   "id": "e11963d7-3837-44dd-9e69-bc7cce45aa7c",
   "metadata": {},
   "source": [
    "### Overwrite a Secret\n",
    "\n",
    "Let us pretend that the API token for the portal frontend changed. Its value is now `some-amazing-token`. Use the same command as before to update the secret. Note that the reply tells you that you have written a new version of the secret: version 2."
   ]
  },
  {
   "cell_type": "code",
   "execution_count": null,
   "id": "b0fd1984-edde-48f0-850a-046154b513a6",
   "metadata": {},
   "outputs": [],
   "source": [
    "vault kv put -mount=my-secret-store ..."
   ]
  },
  {
   "cell_type": "markdown",
   "id": "2bb181df-6520-4e50-acec-6c2345270cef",
   "metadata": {},
   "source": [
    "### Check out the new Version in the UI\n",
    "\n",
    "Go to the credential, and check out the new version:\n",
    "\n",
    "![](./assets/img/kv-version-history.png)"
   ]
  },
  {
   "cell_type": "code",
   "execution_count": null,
   "id": "ec71d05a-1291-4cb4-84e8-1d70ff525dde",
   "metadata": {},
   "outputs": [],
   "source": [
    "# you can also check the version history using the CLI\n",
    "vault kv metadata get -mount=my-secret-store teams/cloud-operations/app/portal-frontend/stage/prod/api-token"
   ]
  },
  {
   "cell_type": "markdown",
   "id": "f07b3e45-4b17-4c40-9cf5-cfc507b198c7",
   "metadata": {},
   "source": [
    "### Rolling Back Credentials\n",
    "\n",
    "Oh no, turns out `my-amazing-token` is not actually a new token for the portal frontend. We need the old token! We can easily rollback to older versions of the credential. Note that this is not an operation that is natively supported in the web UI (yet). On the CLI, you can however do this very simply using the `rollback` subcommand.\n",
    "\n",
    "Rollback to version 1.\n",
    "\n",
    "> **NOTE:** flags and options need to be provide before arguments on the CLI. Therefore `vault kv rollback -version=15 my-secret` will correctly interpret the version option, while `vault kv rollback my-secret -version=15` will not."
   ]
  },
  {
   "cell_type": "code",
   "execution_count": null,
   "id": "a8baab8b-6090-4b00-be85-f2a82b1a9f28",
   "metadata": {},
   "outputs": [],
   "source": [
    "vault kv rollback -mount=my-secret-store"
   ]
  },
  {
   "cell_type": "markdown",
   "id": "2e6c4246-54b6-4d2c-a6b6-97ca050a0505",
   "metadata": {},
   "source": [
    "### Inspect the Versions\n",
    "\n",
    "Inspect the version history now (via CLI or UI). Note that rolling back to an old version creates a new version with only the value of the version you rolled back to. This is very important to have consistent history of your versions."
   ]
  },
  {
   "cell_type": "code",
   "execution_count": null,
   "id": "6e603e7e-1b79-4e94-a7c8-009cfc58c3a6",
   "metadata": {},
   "outputs": [],
   "source": [
    "# use the CLI or UI to inspect the version history"
   ]
  },
  {
   "cell_type": "markdown",
   "id": "1554da4b-a30d-403d-b073-281ee7cf95be",
   "metadata": {},
   "source": [
    "### Deleting Secrets\n",
    "\n",
    "Ok, let us delete the secret. It is no longer needed. This can easily be done with the `delete` subcommand.\n",
    "\n",
    "Delete the portal-frontend token secret."
   ]
  },
  {
   "cell_type": "code",
   "execution_count": null,
   "id": "a227d80a-ab95-46f3-a317-8d2b89a6ce1b",
   "metadata": {},
   "outputs": [],
   "source": [
    "vault kv delete -mount=my-secret-store ..."
   ]
  },
  {
   "cell_type": "markdown",
   "id": "4ddb489c-e713-4a1b-affd-01d266c0e1fb",
   "metadata": {},
   "source": [
    "### Check out the Versions Again\n",
    "\n",
    "Check out the versions again. Note that we in fact only deleted the latest version (version 3), but that this is still visible, both in the UI and in the CLI.\n",
    "\n",
    "```\n",
    "$ # we can still find the secret in the store\n",
    "$ vault kv list -mount=my-secret-store teams/cloud-operations/app/portal-frontend/stage/prod/\n",
    "Keys\n",
    "----\n",
    "api-token\n",
    "\n",
    "$ # we can no longer read it though\n",
    "$ vault kv get -mount=my-secret-store teams/cloud-operations/app/portal-frontend/stage/prod/\n",
    "No value found at my-secret-store/data/teams/cloud-operations/app/portal-frontend/stage/prod\n",
    "```\n",
    "\n",
    "This is because any delete is only a soft delete. This means we can `undelete` secrets, or roll them back to previous versions to restore these. In order to properly and permanently delete secrets, we need to `destroy` them. This can be done to either one or several versions of a secret. Let us destroy only version 1 of this secret.\n",
    "\n",
    "If you want to detroy all versions of a secret, you will need to delete its metadata. This can be done using `metadata delete`. Let us use that to delete the `database` secret.\n",
    "\n",
    "1. Use the `destroy` subcommand with option `-versions` to delete specifically version 1 of the portal-frontend credential.\n",
    "2. Use the `metadata delete` subcommand to destroy all versions of the `database` secret."
   ]
  },
  {
   "cell_type": "code",
   "execution_count": null,
   "id": "0fa011be-b444-4ff8-934e-aa4432a86323",
   "metadata": {},
   "outputs": [],
   "source": [
    "vault kv destroy -mount=my-secret-store ..."
   ]
  },
  {
   "cell_type": "code",
   "execution_count": null,
   "id": "3ab20e12-de46-46b0-b4c4-ee43cd3c254b",
   "metadata": {},
   "outputs": [],
   "source": [
    "vault metadata delete -mount=my-secret-store ..."
   ]
  },
  {
   "cell_type": "markdown",
   "id": "71bbf46f-efaa-4cbc-a792-91b127878065",
   "metadata": {},
   "source": [
    "> **NOTE:** if the UI still shows a secret after its metadata has been deleted, this is typically caused by browser caching. In such a case reload the page. You should see that the secret no longer exists.\n",
    "\n",
    "Check out that only the version 1 of the portal frontend token was deleted. If you try to view the version, you will see that there is no more data there ...\n",
    "\n",
    "![](./assets/img/kv-version-delete.png)"
   ]
  },
  {
   "cell_type": "markdown",
   "id": "f9bb961f-c88e-4241-ab18-dc344c93cd27",
   "metadata": {},
   "source": [
    "## Cleaning Up\n",
    "\n",
    "At the end of each module, you should clean up your Vault instance. This is done by shutting it down and wiping its database to restore its state."
   ]
  },
  {
   "cell_type": "code",
   "execution_count": null,
   "id": "d971932a-7cf8-47d6-8c37-80b93f505bc8",
   "metadata": {},
   "outputs": [],
   "source": [
    "kill $(cat /tmp/vault.pid)\n",
    "rm /tmp/vault.log\n",
    "rm /tmp/vault.pid"
   ]
  },
  {
   "cell_type": "code",
   "execution_count": null,
   "id": "00617e46-cbcf-43de-afef-e4241549ffb8",
   "metadata": {},
   "outputs": [],
   "source": []
  }
 ],
 "metadata": {
  "kernelspec": {
   "display_name": "Bash",
   "language": "bash",
   "name": "bash"
  },
  "language_info": {
   "codemirror_mode": "shell",
   "file_extension": ".sh",
   "mimetype": "text/x-sh",
   "name": "bash"
  }
 },
 "nbformat": 4,
 "nbformat_minor": 5
}
