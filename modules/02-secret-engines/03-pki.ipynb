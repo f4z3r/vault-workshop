{
 "cells": [
  {
   "cell_type": "markdown",
   "id": "1a0e6183-33ac-41ac-86d2-a97e31a1eded",
   "metadata": {},
   "source": [
    "# The PKI Secret Engine\n",
    "\n",
    "The public key infrastructure (PKI) secrets engine in Vault enables you to issue certificates directly via the API. This is very useful if you require automation around your certificate management. In these cases Vault will act as a certificate authority (CA) and issue certificates based on a signing certificate it manages. \n",
    "\n",
    "## Use Cases\n",
    "\n",
    "Typical use cases for the PKI secret engine are:\n",
    "\n",
    "- Integration with other tooling in order to have certificates manages centrally (e.g. management for self-signed certificates of service meshes).\n",
    "- As a full blown CA within your network which manages trusted certificates.\n",
    "\n",
    "### Starting Vault\n",
    "\n",
    "Let us start a Vault server. This will run Vault in the background and push the logs to `/tmp/vault.log`. If at any point in time the Vault crashes, this command will need to be used again to re-launch the Vault server.\n",
    "\n",
    "For now, do not worry about the configuration with which we are starting the server. This will be covered in a separate module."
   ]
  },
  {
   "cell_type": "code",
   "execution_count": null,
   "id": "b2d7eb82-25f2-4634-8442-902ab235e3f5",
   "metadata": {},
   "outputs": [],
   "source": [
    "nohup bash -c '\n",
    "  vault server -dev -dev-root-token-id=root-token -dev-listen-address=\"0.0.0.0:8200\"\n",
    "' > /tmp/vault.log 2>&1 &\n",
    "echo $! > /tmp/vault.pid"
   ]
  },
  {
   "cell_type": "markdown",
   "id": "f0d0bb17-67c4-4e93-8490-7f52e61288c9",
   "metadata": {},
   "source": [
    "### Login to Vault\n",
    "\n",
    "Let us login to Vault. We started a development version vor simplicity."
   ]
  },
  {
   "cell_type": "code",
   "execution_count": null,
   "id": "3520a323-938e-462a-814d-79553c7b8f64",
   "metadata": {},
   "outputs": [],
   "source": [
    "export VAULT_ADDR=\"http://127.0.0.1:8200\"\n",
    "vault login root-token"
   ]
  },
  {
   "cell_type": "markdown",
   "id": "1801aba9-96a8-4d63-b252-c68a65bd9728",
   "metadata": {},
   "source": [
    "### Enabling the Secrets Engine\n",
    "\n",
    "We will use the CLI to enable the PKI secrets engine. This can also be done via the UI. For information on this, refer to the `01-key-value.ipynb` module."
   ]
  },
  {
   "cell_type": "code",
   "execution_count": null,
   "id": "273dc111-abfe-4290-8666-afe22e047dea",
   "metadata": {},
   "outputs": [],
   "source": [
    "vault secrets enable pki"
   ]
  },
  {
   "cell_type": "markdown",
   "id": "19a4eeff-bf9b-455b-9ed1-de12cbef2812",
   "metadata": {},
   "source": [
    "### Tuning\n",
    "\n",
    "An aspect that is quite central for the PKI engine is tuning of the secrets engine. Tuning engines is when its configuration is changed to better fit its use case. This is mostly interesting for the PKI engine as certificates tend to have different lifetime requirements as credentials. For instance, it is not uncommon that root certificates have a validity of up to 10 years. This would not be allowed by the default configuration of secrets engines.\n",
    "\n",
    "Let us first retrieve the current configuration of the engine:"
   ]
  },
  {
   "cell_type": "code",
   "execution_count": null,
   "id": "355f894c-f852-4e33-8620-344b01649511",
   "metadata": {},
   "outputs": [],
   "source": [
    "vault read /sys/mounts/pki/tune"
   ]
  },
  {
   "cell_type": "markdown",
   "id": "3e463799-b567-46bf-aaaa-b7029b17e39c",
   "metadata": {},
   "source": [
    "As we can see, the maximal lease time to live (TTL) is 768 hours, which corresponds to only 32 days (the default). Thus, if we were to issue certificates for longer than 32 days, their lifetimes would be cropped to the 32 days. This is of course not desired, as we might have certificates that should be valid longer. Let us tune the secrets engine:"
   ]
  },
  {
   "cell_type": "code",
   "execution_count": null,
   "id": "f1885df6-7dc0-42e6-8d4f-455c8a3c3864",
   "metadata": {},
   "outputs": [],
   "source": [
    "vault secrets tune -max-lease-ttl=87600h pki"
   ]
  },
  {
   "cell_type": "markdown",
   "id": "ff1a6477-7c0d-4879-866c-495d9d5ae949",
   "metadata": {},
   "source": [
    "### Certificate Authorities\n",
    "\n",
    "There are now two ways to handle the certificate authority. Either we have a certificate authority that is fully managed by Vault, or we use Vault to issue trusted certificates by an external authority. Generally, having a fully managed authority has the advantage that the root certificate is fully contained within Vault and is close to impossible to leak. The problem is that we need to configure applications to then trust this root certificate. The advantage of using an external authority is that this is typically already trusted. Therefore applications will automatically trust the certificates issued by Vault.\n",
    "\n",
    "In both cases, we will not signs leaf certificates directly by the authority's root. It is best practice to have an intermediate certificate that performs the signing. Thus the PKI structure looks as follows:\n",
    "\n",
    "![](./assets/img/pki-structure.excalidraw.png)\n",
    "\n",
    "Let us start with the simpler use case, where Vault manages the root certificate.\n",
    "\n",
    "We can use the `pki/root/generate/internal` endpoint to generate an internal root. See [the official API documentation](https://developer.hashicorp.com/vault/api-docs/secret/pki#generate-root) for more details. Essentially, using the endpoint, we will generate a self-signed CA of type `internal`, meaning that the key is kept internal to Vault and will never be displayed. This is the most secure way of performing this, as it reduces changes of leaking the key.\n",
    "\n",
    "Let us generate a root CA that is valid 10 years (87600 hours). Thus, create a certificate that:\n",
    "\n",
    "- Is valid for 10 years (has a time-to-live - TTL of 87600h).\n",
    "- Uses `example.com` as its common name.\n",
    "- Creates an internal Vault issuer called `internal-root`.\n",
    "- Names the key to `internal-root` as well.\n",
    "- An has 4096 key bits (the key will be RSA by default).\n",
    "\n",
    "Complete the below command and execute it. It will store the certificate under `internal-root.crt` on the file system."
   ]
  },
  {
   "cell_type": "code",
   "execution_count": null,
   "id": "7b11747e-b0c3-445a-8c15-031b6c8d3085",
   "metadata": {},
   "outputs": [],
   "source": [
    "vault write -field=certificate pki/root/generate/internal \\\n",
    "     common_name=\"...\" \\\n",
    "     issuer_name=\"...\" \\\n",
    "     key_name=\"...\" \\\n",
    "     key_bits=... \\\n",
    "     ttl=... | tee internal-root.crt"
   ]
  },
  {
   "cell_type": "markdown",
   "id": "86d595a9-40a3-4c70-bc29-f72d8f5dd21e",
   "metadata": {},
   "source": [
    "Let us inspect the certificate that was created, to make sure that it is what we expect:"
   ]
  },
  {
   "cell_type": "code",
   "execution_count": null,
   "id": "32adeb07-9dbb-4470-8144-059bec686531",
   "metadata": {},
   "outputs": [],
   "source": [
    "openssl x509 -in internal-root.crt -noout -subject -dates"
   ]
  },
  {
   "cell_type": "markdown",
   "id": "75c85c22-dd29-49b0-a173-53aa45ad131f",
   "metadata": {},
   "source": [
    "### Checking Issuers and Keys in Vault\n",
    "\n",
    "We can also check that the issuer and the key were correctly created in Vault. Go to \"Secrets Engines\" and check out the issuers and keys. There should be an `internal-root` respectively. Have a look around what information you can find on the issuers, the keys, and the currently issued certificates on the UI.\n",
    "\n",
    "![](./assets/img/pki-issuer-list.png)\n",
    "\n",
    "![](./assets/img/pki-key-list.png)"
   ]
  },
  {
   "cell_type": "markdown",
   "id": "a5287812-973d-4447-939f-92fcd2e6802d",
   "metadata": {},
   "source": [
    "### Published Information\n",
    "\n",
    "Note that when you click on the issuer and scroll down, you will see that there are no issuer URLs configured. Therefore, it will be impossible to find a reference to the CA when someone recieves a certificate issued by Vault. This is not ideal. Any issued certificate should always have a reference to a public URL where the CA can be found, and another where the certificate revocation list (CRL) can be found. This is important such that clients can validate the chain of trust, and ensure that the certificate they are seeing has not been revoked even though it is still within its validity period. Let's configure these URLs.\n",
    "\n",
    "Note again that here we use the local address for Vault as this is a test environment. In practice it is very important that these URLs are reachable by any point in your network where a leaf certificate might be in use."
   ]
  },
  {
   "cell_type": "code",
   "execution_count": null,
   "id": "bcd323f3-311a-4b8f-83d3-5e270b9fce2a",
   "metadata": {},
   "outputs": [],
   "source": [
    "vault write pki/config/urls \\\n",
    "     issuing_certificates=\"$VAULT_ADDR/v1/pki/ca\" \\\n",
    "     crl_distribution_points=\"$VAULT_ADDR/v1/pki/crl\""
   ]
  },
  {
   "cell_type": "markdown",
   "id": "77e46c45-7506-41f6-9bb2-2506a61842a2",
   "metadata": {},
   "source": [
    "### Creating an Intermediate Authority\n",
    "\n",
    "Now that the root CA is ready, we would generate an intermediate authority. This would be the point where you would start if you would use an external root authority.\n",
    "\n",
    "Since Vault 1.11.0, it is possible to host various issuers within the same PKI engine in Vault. However, tt is good practice to keep the intermediate separate from the root. Thus HashiCorp typically recommends to use a different secrets engine mount for the intermediate PKI engine. We will also do this here.\n",
    "\n",
    "Let us enable a new PKI engine (at a different path), and tune it. Tune the PKI engine to support issuing certificate up to 3 years (26300h)."
   ]
  },
  {
   "cell_type": "code",
   "execution_count": null,
   "id": "d83e27c7-82d9-4914-af26-066884e6b195",
   "metadata": {},
   "outputs": [],
   "source": [
    "vault secrets enable -path=pki-int pki\n",
    "vault secrets tune -max-lease-ttl=... pki-int"
   ]
  },
  {
   "cell_type": "markdown",
   "id": "3d05432e-c378-471c-aa65-ea0c90deb714",
   "metadata": {},
   "source": [
    "### Creating a Signing Request\n",
    "\n",
    "We will first need to generate a certificate signing request (CSR) for the intermediate. This will essentially generate an internally managed key by Vault and a CSR. This CSR can then be passed to the root to return a signed certificate. That certificate is then the intermediate CA's certificate, and must then be imported into the engine again.\n",
    "\n",
    "Note that in the case we are using an external root CA, we would perform these exact steps, except that the signing of the CSR by the root CA would not be done by performing a REST call against Vault, but by passing that CSR to the external root CA.\n",
    "\n",
    "The following commands are a bit more complex, so let us look at them in detail.\n",
    "\n",
    "We will be using the `intermediate/generate/internal` API endpoint to generate an intermediate CA. Thus, it will not self-sign (like in the Root CA case) and therefore not return a signed certificate as before. It will instead return a CSR. The key is still kept private. Here we use JSON format as output and `jq` to retrieve the CSR into a file to persist it for simplicity.\n",
    "\n",
    "Note we are using the new PKI engine under the `pki-int` path."
   ]
  },
  {
   "cell_type": "code",
   "execution_count": null,
   "id": "0a4f732b-f2a3-4b6c-86a6-c9ba64723925",
   "metadata": {},
   "outputs": [],
   "source": [
    "vault write -format=json pki-int/intermediate/generate/internal \\\n",
    "     common_name=\"example.com Intermediate Authority\" \\\n",
    "     issuer_name=\"example-dot-com-intermediate\" \\\n",
    "     | jq -r '.data.csr' | tee pki-intermediate.csr"
   ]
  },
  {
   "cell_type": "code",
   "execution_count": null,
   "id": "ee98ea65-fcf9-46fc-b556-ac232ef4d5ad",
   "metadata": {},
   "outputs": [],
   "source": [
    "# we can then inspect the CSR\n",
    "openssl req -in pki-intermediate.csr -noout -subject"
   ]
  },
  {
   "cell_type": "markdown",
   "id": "91b07b11-10fb-4a02-9a41-55cdfdb1a71f",
   "metadata": {},
   "source": [
    "### Signing the CSR\n",
    "\n",
    "Now let's sign the CSR by the root PKI. Here we will again be using the `pki` path, where the root PKI engine is located. We are using the `root/sign-intermediate` endpoint to sign the CSR of an intermediate. We will need to reference which issuer we want to use. Since we have only one issuer on the `pki` path, it would take that one by default. However, it is good practice to reference it explicitly. Remember that we called it `internal-root`. Then we pass the CSR and provide it with a TTL for the intermediate.\n",
    "\n",
    "Sign the CSR with the following:\n",
    "- Provide the correct issuer reference: `internal-root`.\n",
    "- Provide the TTL for the intermediate: 3 years (26300h)."
   ]
  },
  {
   "cell_type": "code",
   "execution_count": null,
   "id": "674c9417-cedc-4282-b1e2-e99b7a609770",
   "metadata": {},
   "outputs": [],
   "source": [
    "vault write -format=json pki/root/sign-intermediate \\\n",
    "     issuer_ref=\"...\" \\\n",
    "     csr=@pki-intermediate.csr \\\n",
    "     format=pem_bundle ttl=\"...\" \\\n",
    "     | jq -r '.data.certificate' | tee intermediate.cert.pem"
   ]
  },
  {
   "cell_type": "markdown",
   "id": "a5d59754-0b11-4178-a2b2-97507ade433d",
   "metadata": {},
   "source": [
    "Perfect, we should now have our certificate under `intermediate.cert.pem`. Let's have a look."
   ]
  },
  {
   "cell_type": "code",
   "execution_count": null,
   "id": "feea6ea9-2bef-4728-8d85-b10b0be4673e",
   "metadata": {},
   "outputs": [],
   "source": [
    "openssl x509 -in intermediate.cert.pem -noout -subject -dates"
   ]
  },
  {
   "cell_type": "markdown",
   "id": "1b103806-4f46-4167-a68a-a5ae35ffee8f",
   "metadata": {},
   "source": [
    "### Importing the Signed Certificate\n",
    "\n",
    "We now need to import the signed certificate into the `pki-int` secrets engine. Let's do this:"
   ]
  },
  {
   "cell_type": "code",
   "execution_count": null,
   "id": "d27d40bd-28ac-4144-a1e9-28130a2b17a3",
   "metadata": {},
   "outputs": [],
   "source": [
    "vault write pki-int/intermediate/set-signed certificate=@intermediate.cert.pem"
   ]
  },
  {
   "cell_type": "markdown",
   "id": "cff03852-0e8a-48fa-8483-90409a78a636",
   "metadata": {},
   "source": [
    "The above command should have returned you a warning, that no authority information access (AIA) is contained in the CA. That is the point we made above regarding the CA distribution URL and the CRL URL. Let us configure these before we issue any certificates:"
   ]
  },
  {
   "cell_type": "code",
   "execution_count": null,
   "id": "50bab555-09b4-4df1-8b63-d4cf8264d55f",
   "metadata": {},
   "outputs": [],
   "source": [
    "vault write pki-int/config/urls \\\n",
    "     issuing_certificates=\"$VAULT_ADDR/v1/pki-int/ca\" \\\n",
    "     crl_distribution_points=\"$VAULT_ADDR/v1/pki-int/crl\""
   ]
  },
  {
   "cell_type": "markdown",
   "id": "0ca2dcee-b6b3-4e07-bc43-5013638bb75c",
   "metadata": {},
   "source": [
    "### Creating Roles\n",
    "\n",
    "Before leaf certificates can be issues by the intermediate, we will need to create roles. Roles are what define which types of certificates are allowed to be issued by this CA. Typically, clients will log in to Vault and then have a small set of roles for which they can generate certificates. For instance, an application that is known to be hosted under `my-app.example.com` will have a role which only allows it to generate certificates for that domain (and potentially sub-domains). That application should not be allowed to request a certificate for `super-secure.example.com`.\n",
    "\n",
    "Let us create such a role which:\n",
    "\n",
    "- Is allowed to use the intermediate (the default) issuer for certificates.\n",
    "- Is allowed to generate certificates for the `my-app.example.com` domain.\n",
    "- Is allowed to get bare domains, meaning exactly the `my-app.example.com` domain.\n",
    "- Is allowed to get certificates for subdomains (such as `testing.my-app.example.com`).\n",
    "- Is not allowed to get wildcard certificates (e.g. `*.my-app.example.com`).\n",
    "- Can only have certificates that are valid at most 30 days (720 hours).\n",
    "- Are not allowed to be used for client authentication.\n",
    "\n",
    "For more information on everything that can be configured, check out [the API documentation](https://developer.hashicorp.com/vault/api-docs/secret/pki#create-update-role). This exact and yet very simple configuration of roles is what makes Vault very powerful to manage certificates."
   ]
  },
  {
   "cell_type": "code",
   "execution_count": null,
   "id": "bfd97cc4-e291-4c5b-b637-c99e49f55570",
   "metadata": {},
   "outputs": [],
   "source": [
    "vault write pki-int/roles/my-app \\\n",
    "     issuer_ref=\"$(vault read -field=default pki-int/config/issuers)\" \\\n",
    "     allowed_domains=\"...\" \\\n",
    "     allow_bare_domains=... \\\n",
    "     allow_subdomains=... \\\n",
    "     allow_wildcard_certificates=... \\\n",
    "     max_ttl=\"...\" \\\n",
    "     client_flag=..."
   ]
  },
  {
   "cell_type": "markdown",
   "id": "12b8ec73-faea-4535-b19b-7235c9a12e1f",
   "metadata": {},
   "source": [
    "### Issuing Certificates\n",
    "\n",
    "Now everything is set up. Let us try to generate a set of certificates. Let us first generate a single certificate and make sure that everything is in order:"
   ]
  },
  {
   "cell_type": "code",
   "execution_count": null,
   "id": "b4d50019-385f-4d15-89fd-acf622387ef5",
   "metadata": {},
   "outputs": [],
   "source": [
    "vault write -field=certificate pki-int/issue/my-app \\\n",
    "    common_name=\"my-app.example.com\" \\\n",
    "    ttl=\"24h\" | tee leaf.pem"
   ]
  },
  {
   "cell_type": "code",
   "execution_count": null,
   "id": "73d4bfa4-279b-4ad7-8473-4ae3933631eb",
   "metadata": {},
   "outputs": [],
   "source": [
    "# check the extensions, TTL, CN, etc\n",
    "openssl x509 -in leaf.pem -noout -text"
   ]
  },
  {
   "cell_type": "markdown",
   "id": "65e67f66-bde5-4a80-9d82-9a62f3a685bb",
   "metadata": {},
   "source": [
    "The output should correctly show only server authentication under `X509v3 Extended Key Usage`, the correct issuer including the CRL and CA issuer URIs. Perfect.\n",
    "\n",
    "Now let us see if we can test the boundaries of the role ..."
   ]
  },
  {
   "cell_type": "code",
   "execution_count": null,
   "id": "03235b59-d4e0-4d05-9304-5eb21ba48e3e",
   "metadata": {},
   "outputs": [],
   "source": [
    "# this should work\n",
    "vault write -field=certificate pki-int/issue/my-app \\\n",
    "    common_name=\"super.duper.test.my-app.example.com\" | tee subdomain.pem"
   ]
  },
  {
   "cell_type": "code",
   "execution_count": null,
   "id": "6dca0761-f132-437f-bf68-e7d9a4ff3d14",
   "metadata": {},
   "outputs": [],
   "source": [
    "# this should NOT work (wildcard certificate)\n",
    "vault write pki-int/issue/my-app \\\n",
    "    common_name=\"*.my-app.example.com\""
   ]
  },
  {
   "cell_type": "code",
   "execution_count": null,
   "id": "f6582e41-9561-4570-9f7c-3d407d01e6a1",
   "metadata": {},
   "outputs": [],
   "source": [
    "# this should NOT work (wrong domain)\n",
    "vault write pki-int/issue/my-app \\\n",
    "    common_name=\"other-app.example.com\""
   ]
  },
  {
   "cell_type": "code",
   "execution_count": null,
   "id": "31ba9801-b1af-4e44-aa0b-af6332506828",
   "metadata": {},
   "outputs": [],
   "source": [
    "# lets test a certificate that is valid much longer than what we configured ...\n",
    "vault write -field=certificate pki-int/issue/my-app \\\n",
    "    common_name=\"long-lived.my-app.example.com\" \\\n",
    "    ttl=\"43800h\" > longlived.pem\n",
    "# check out the validity period of the certificate, it should still only be 30 days (cropped)\n",
    "openssl x509 -in longlived.pem -noout -dates"
   ]
  },
  {
   "cell_type": "markdown",
   "id": "11ef40f2-cf60-4ccb-b4cb-c38031884354",
   "metadata": {},
   "source": [
    "### Issuing via the UI and Exploration\n",
    "\n",
    "You can also check all issued certificates in the UI, view their information, and even revoke them:\n",
    "\n",
    "![](./assets/img/pki-certificate-list.png)\n",
    "\n",
    "![](./assets/img/pki-certificate-info.png)"
   ]
  },
  {
   "cell_type": "markdown",
   "id": "79332423-3ab4-45f5-8522-51f308775805",
   "metadata": {},
   "source": [
    "### Generate Certificate\n",
    "\n",
    "Moreover, you can also go on the roles, view their information, and then either generate a certificate or sign a CSR using that role. You can also use the SAN options to view all available options you might want to additionally request when generating a certificate directly in the UI.\n",
    "\n",
    "![](./assets/img/pki-role-info.png)\n",
    "\n",
    "![](./assets/img/pki-generate-certificate.png)"
   ]
  },
  {
   "cell_type": "markdown",
   "id": "e16a7298-beb3-42d0-9923-1ba01f1daf7b",
   "metadata": {},
   "source": [
    "## ADVANCED: Other PKI Capabilities\n",
    "\n",
    "Try to perform the following actions. In order to achieve this, consider the [official documentation](https://developer.hashicorp.com/vault/docs/secrets/pki) as well as the [API documentation](https://developer.hashicorp.com/vault/api-docs/secret/pki).\n",
    "\n",
    "1. Revoke a (leaf) certificate that you issued before using the serial of the certificate via the CLI/API.\n",
    "2. Force a rotation of the CRL signature.\n",
    "3. Assuming that some certificates are expired in the CRL, perform a tidy operation on the intermediate CA.\n",
    "\n",
    "Let us simulate a root roation. In such a case a new root CA needs to be used because the old root is expiring. There are several approaches to perform this while allowing clients to update their trust within a defined time window. We will choose an approach where this is done by cross-signing an intermediate CA by both root CAs, such that they are both valid at the same time. This allows clients to update their trust into the new CA until the old one expires.\n",
    "\n",
    "In order to do this:\n",
    "\n",
    "1. Create a new self-signed root CA that will be our new root CA.\n",
    "2. Use the `cross-sign` API endpoint on the intermediate to generate a CSR for the new root CA (see https://developer.hashicorp.com/vault/api-docs/secret/pki#generate-intermediate-csr, you will need the `key_ref` field with the default issuer).\n",
    "3. Sign the CSR with the new root CA.\n",
    "4. Import the certificate into the intemediate using the `set-signed` API endpoint.\n",
    "5. Issue a certificate with that issuer and validate its trust chain.\n",
    "6. Optionally, update the trust chains on both issuers of the intermediate to use both roots (by patching the issuer configuations with a `manual_chain`).\n",
    "\n",
    "For a solution on how to do this, check out the official tutorial steps 9 to 11: https://developer.hashicorp.com/vault/tutorials/pki/pki-engine#step-9-create-a-cross-signed-intermediate"
   ]
  },
  {
   "cell_type": "markdown",
   "id": "d482ca5e-b79d-494c-a78e-ad36e3dea200",
   "metadata": {},
   "source": [
    "## Cleaning Up\n",
    "\n",
    "At the end of each module, you should clean up your Vault instance. This is done by shutting it down and wiping its database to restore its state."
   ]
  },
  {
   "cell_type": "code",
   "execution_count": null,
   "id": "f938cc50-cad2-41e6-a1cc-83cf1bb7c64a",
   "metadata": {},
   "outputs": [],
   "source": [
    "kill $(cat /tmp/vault.pid)\n",
    "rm /tmp/vault.log\n",
    "rm /tmp/vault.pid\n",
    "rm *.pem *.csr *.crt"
   ]
  }
 ],
 "metadata": {
  "kernelspec": {
   "display_name": "Bash",
   "language": "bash",
   "name": "bash"
  },
  "language_info": {
   "codemirror_mode": "shell",
   "file_extension": ".sh",
   "mimetype": "text/x-sh",
   "name": "bash"
  }
 },
 "nbformat": 4,
 "nbformat_minor": 5
}
