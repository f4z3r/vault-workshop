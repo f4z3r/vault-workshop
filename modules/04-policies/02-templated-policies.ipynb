{
 "cells": [
  {
   "cell_type": "markdown",
   "id": "a9b6a46f-8fa3-4192-a526-1d5d61bf887b",
   "metadata": {},
   "source": [
    "# Templated Policies\n",
    "\n",
    "Templated policies are very useful for a wide variety of scenarios. First and foremost, they allow to keep your overall policy count much smaller, and thus make it easier to keep an overview of the configured permissions in your Vault. Another very important use case is that components should not be allowed to create policies on the fly. Unless done with absolute care, this can quickly leads to situations where components can grant themselves root access. In such scenarios templated policies are very useful.\n",
    "\n",
    "### Starting Vault\n",
    "\n",
    "Let us start a Vault server. This will run Vault in the background and push the logs to `/tmp/vault.log`. If at any point in time the Vault crashes, this command will need to be used again to re-launch the Vault server.\n",
    "\n",
    "For now, do not worry about the configuration with which we are starting the server. This will be covered in a separate module."
   ]
  },
  {
   "cell_type": "code",
   "execution_count": null,
   "id": "aa4f75ef-f8e0-4a40-9d85-2446d9481d06",
   "metadata": {},
   "outputs": [],
   "source": [
    "nohup bash -c '\n",
    "  vault server -dev -dev-root-token-id=root-token -dev-listen-address=\"0.0.0.0:8200\"\n",
    "' > /tmp/vault.log 2>&1 &\n",
    "echo $! > /tmp/vault.pid"
   ]
  },
  {
   "cell_type": "markdown",
   "id": "f869c907-fb0a-4484-9bd1-e3b8867fe2b5",
   "metadata": {},
   "source": [
    "### Login to Vault\n",
    "\n",
    "Let us login to Vault. We started a development version vor simplicity."
   ]
  },
  {
   "cell_type": "code",
   "execution_count": null,
   "id": "fedfbea9-c2f2-40c0-89f4-18dda261d0af",
   "metadata": {},
   "outputs": [],
   "source": [
    "export VAULT_ADDR=\"http://127.0.0.1:8200\"\n",
    "vault login root-token"
   ]
  },
  {
   "cell_type": "markdown",
   "id": "9fe5263d-9cfa-4955-a9d3-17500bd7b02b",
   "metadata": {},
   "source": [
    "### Configuration\n",
    "\n",
    "Let us setup some stuff that will be useful later: a KV secrets engine and some credentials."
   ]
  },
  {
   "cell_type": "code",
   "execution_count": null,
   "id": "88d5d002-bbc3-43dd-b931-8cfd11f2de27",
   "metadata": {},
   "outputs": [],
   "source": [
    "vault secrets enable -path=kv -version=2 kv\n",
    "vault kv put -mount=kv teams/cloud-operations/app/portal-frontend/stage/prod/api-token token=85bbddeb-0a81-4cb3-8173-5d6cd414a7a6\n",
    "vault kv put -mount=kv teams/cloud-operations/app/portal-frontend/stage/test/api-token token=dbe44cad-e3c9-47fd-a725-a08ed0d3d1b8\n",
    "vault kv put -mount=kv teams/cloud-operations/app/backend/stage/prod/database uri=mariadb.com username=dedicated password=super-secret\n",
    "vault kv put -mount=kv teams/cloud-operations/app/backend/stage/test/database uri=mariadb.com username=admin password=root\n",
    "vault kv put -mount=kv teams/cloud-operations/app/backend/stage/prod/ldap-bind uri=ldaps://domain.controller:636 binddn=s-account password=also-super-secret\n",
    "vault kv put -mount=kv teams/cloud-operations/app/backend/stage/test/ldap-bind uri=ldaps://domain.controller:636 binddn=s-account-testing password=not-super-secret"
   ]
  },
  {
   "cell_type": "markdown",
   "id": "f4f50c12-5ecd-4ddf-aee8-ac2d45e88ba2",
   "metadata": {},
   "source": [
    "### Path Structure\n",
    "\n",
    "Note that we explicitly chose a path structure similar to a REST API:\n",
    "\n",
    "```\n",
    "teams/<team>/app/<app>/stage/<stage>/<credential>\n",
    "```\n",
    "\n",
    "This is quite a critical point that should not be ignored. Having a correct path structure is the main foundation to enable proper usage of templated policies. The exact structure that you might want to use is highly dependent on how you want to cut permissions, and what the use cases will be. Moreover, it should be noted that the structure should not only consider the paths in the KV secrets engine, but of the entirety of the set of secrets engines. In this example we will only use the KV engine for simplicity, but in reality this would also include other engines such as PKI, dynamic credentials, etc.\n",
    "\n",
    "### Creating a Simple Templated Policy\n",
    "\n",
    "The simplest form of templating in policies comes in the form of globbing characters: `*` and `+`. The `*` (asterisk) means any set of path segments and can only be used at the very end of a policy path. The `+` (plus) means a single path segment and can be used anywhere in the path string of a policy. Thus for instance the following policy:\n",
    "\n",
    "```hcl\n",
    "path \"kv/data/teams/cloud-operations/*\" {\n",
    "  capabilities = [ \"read\" ]\n",
    "}\n",
    "```\n",
    "\n",
    "grants read access to all credentials owned by the `cloud-operations` team. On the other hand:\n",
    "\n",
    "```hcl\n",
    "path \"kv/data/teams/cloud-operations/app/portal-frontend/stage/+/api-token\" {\n",
    "  capabilities = [ \"read\" ]\n",
    "}\n",
    "```\n",
    "\n",
    "Grants access to the `api-token` credentials for all stages. Note that the `+` can also be used as the last element of the path to ensure only a single path segment is granted and not any path below the provided root.\n",
    "\n",
    "Create three templated polices that:\n",
    "\n",
    "1. Grant read access to any credentials within the `backend` application of the `cloud-operation` team.\n",
    "2. Grant read access to any `test` credential within the `cloud-operation` team, regardless of the application.\n",
    "3. Grant read access to any credentials of any app called `backend` regardless of what team owns the application."
   ]
  },
  {
   "cell_type": "code",
   "execution_count": null,
   "id": "3048c675-8508-429f-bdd8-5ef1dcdcafbc",
   "metadata": {},
   "outputs": [],
   "source": [
    "vault policy write read-cloud-operations-backend-secrets -<<-EOF\n",
    "path \"kv/data/...\" {\n",
    "  capabilities = [ \"read\" ]\n",
    "}\n",
    "EOF"
   ]
  },
  {
   "cell_type": "code",
   "execution_count": null,
   "id": "644e88bf-d6ca-44e7-bfbb-f60a7a67d7d0",
   "metadata": {},
   "outputs": [],
   "source": [
    "vault policy write read-cloud-operations-test-secrets -<<-EOF\n",
    "path \"kv/data/...\" {\n",
    "  capabilities = [ \"read\" ]\n",
    "}\n",
    "EOF"
   ]
  },
  {
   "cell_type": "code",
   "execution_count": null,
   "id": "e6f6f1cc-3708-462c-9527-3e5a42cf2edf",
   "metadata": {},
   "outputs": [],
   "source": [
    "vault policy write read-backend-secrets -<<-EOF\n",
    "path \"kv/data/...\" {\n",
    "  capabilities = [ \"read\" ]\n",
    "}\n",
    "EOF"
   ]
  },
  {
   "cell_type": "markdown",
   "id": "9b3c850d-ba40-4c90-9dad-6ffdfed20b55",
   "metadata": {},
   "source": [
    "### Testing the Policies\n",
    "\n",
    "Let us test the policies above."
   ]
  },
  {
   "cell_type": "code",
   "execution_count": null,
   "id": "1cecaa56-e383-44f1-819c-5321701b246a",
   "metadata": {},
   "outputs": [],
   "source": [
    "# This should PASS\n",
    "vault login root-token > /dev/null\n",
    "vault login \"$(vault token create -policy=read-cloud-operations-backend-secrets -field=token)\" > /dev/null\n",
    "vault kv get -mount=kv teams/cloud-operations/app/backend/stage/prod/ldap-bind > /dev/null\n",
    "vault kv get -mount=kv teams/cloud-operations/app/backend/stage/test/ldap-bind > /dev/null\n",
    "vault kv get -mount=kv teams/cloud-operations/app/backend/stage/test/database > /dev/null"
   ]
  },
  {
   "cell_type": "code",
   "execution_count": null,
   "id": "f46262a2-f7fa-4ad5-9361-62562f8779d1",
   "metadata": {},
   "outputs": [],
   "source": [
    "# This should FAIL\n",
    "vault login root-token > /dev/null\n",
    "vault login \"$(vault token create -policy=read-cloud-operations-backend-secrets -field=token)\" > /dev/null\n",
    "vault kv get -mount=kv teams/cloud-operations/app/portal-frontend/stage/test/api-token > /dev/null"
   ]
  },
  {
   "cell_type": "code",
   "execution_count": null,
   "id": "c64bd41c-1d87-4a09-9b6f-c545015a9339",
   "metadata": {},
   "outputs": [],
   "source": [
    "# This should PASS\n",
    "vault login root-token > /dev/null\n",
    "vault login \"$(vault token create -policy=read-cloud-operations-test-secrets -field=token)\" > /dev/null\n",
    "vault kv get -mount=kv teams/cloud-operations/app/backend/stage/test/ldap-bind > /dev/null\n",
    "vault kv get -mount=kv teams/cloud-operations/app/backend/stage/test/database > /dev/null\n",
    "vault kv get -mount=kv teams/cloud-operations/app/portal-frontend/stage/test/api-token > /dev/null"
   ]
  },
  {
   "cell_type": "code",
   "execution_count": null,
   "id": "1f2531b1-f1de-4a3f-877a-76007dfb42cc",
   "metadata": {},
   "outputs": [],
   "source": [
    "# This should FAIL\n",
    "vault login root-token > /dev/null\n",
    "vault login \"$(vault token create -policy=read-cloud-operations-test-secrets -field=token)\" > /dev/null\n",
    "vault kv get -mount=kv teams/cloud-operations/app/portal-frontend/stage/prod/api-token > /dev/null"
   ]
  },
  {
   "cell_type": "code",
   "execution_count": null,
   "id": "1e88fad5-b27e-473d-a981-5e968163cce7",
   "metadata": {},
   "outputs": [],
   "source": [
    "# This should PASS\n",
    "vault login root-token > /dev/null\n",
    "vault login \"$(vault token create -policy=read-backend-secrets -field=token)\" > /dev/null\n",
    "vault kv get -mount=kv teams/cloud-operations/app/backend/stage/test/ldap-bind > /dev/null\n",
    "vault kv get -mount=kv teams/cloud-operations/app/backend/stage/prod/database > /dev/null"
   ]
  },
  {
   "cell_type": "code",
   "execution_count": null,
   "id": "93ac7ad7-9c32-47d6-ac2a-62c9eb977bb2",
   "metadata": {},
   "outputs": [],
   "source": [
    "# This should FAIL with \"No value found at kv/data/teams/does-not-exist/app/backend/something\"\n",
    "vault login root-token > /dev/null\n",
    "vault login \"$(vault token create -policy=read-backend-secrets -field=token)\" > /dev/null\n",
    "vault kv get -mount=kv teams/does-not-exist/app/backend/something > /dev/null"
   ]
  },
  {
   "cell_type": "code",
   "execution_count": null,
   "id": "a525c4d6-456e-4672-8fb1-d53a4946b783",
   "metadata": {},
   "outputs": [],
   "source": [
    "# This should FAIL\n",
    "vault login root-token > /dev/null\n",
    "vault login \"$(vault token create -policy=read-backend-secrets -field=token)\" > /dev/null\n",
    "vault kv get -mount=kv teams/cloud-operations/app/portal-frontend/stage/test/api-token > /dev/null"
   ]
  },
  {
   "cell_type": "markdown",
   "id": "c42a8412-b5af-4d17-b49c-bdf9da55ac73",
   "metadata": {},
   "source": [
    "### Real Templating\n",
    "\n",
    "The above is nice, but won't get you far when you start having more complex setups. You will want to dynamically provide access based on who/what logs in to Vault. We will do this using the userpass authentication engine. In practice, you would not use the userpass engine but rather an OIDC or LDAP integration for human authentication. Nonetheless, the concepts apply exactly the same way.\n",
    "\n",
    "Let us integrate our Vault with Kubernetes to see how templating can work in practice. We will setup a Kubernetes cluster and integrate it with Vault, such that service accounts can log in to Vault.\n",
    "\n",
    "First, let us create the Kubernetes cluster and prepare it for integration."
   ]
  },
  {
   "cell_type": "code",
   "execution_count": null,
   "id": "3dc54398-0b61-4e53-8539-f22fbcdc976e",
   "metadata": {},
   "outputs": [],
   "source": [
    "kind create cluster --name templated-policies --kubeconfig kube.yaml"
   ]
  },
  {
   "cell_type": "code",
   "execution_count": null,
   "id": "057e4350-3306-4667-acb6-907f13f19bc8",
   "metadata": {},
   "outputs": [],
   "source": [
    "# update kube config if needed\n",
    "[ -f /.dockerenv ] && sed -i 's/127.0.0.1.*$/templated-policies-control-plane:6443/' kube.yaml\n",
    "export KUBECONFIG=./kube.yaml\n",
    "kubectl cluster-info --context kind-templated-policies"
   ]
  },
  {
   "cell_type": "code",
   "execution_count": null,
   "id": "9c6ed272-37e0-46ee-8461-988b70292515",
   "metadata": {},
   "outputs": [],
   "source": [
    "# deploy a service account that we will use for authentication delegation\n",
    "kubectl create ns vault\n",
    "kubectl -n vault create sa vault\n",
    "kubectl apply -f ./assets/rb.yaml\n",
    "kubectl apply -f ./assets/sa-long-lived-token.yaml"
   ]
  },
  {
   "cell_type": "code",
   "execution_count": null,
   "id": "9c71bcb5-9eb9-46b6-961a-edd95a4fe561",
   "metadata": {},
   "outputs": [],
   "source": [
    "# get long lived JWT token\n",
    "export LL_JWT_TOKEN=\"$(kubectl -n vault get secrets vault -o json | jq -r '.data.token' | base64 -d)\""
   ]
  },
  {
   "cell_type": "code",
   "execution_count": null,
   "id": "7ff0ef6d-c0ae-4a52-91b0-1510b9b64eb4",
   "metadata": {},
   "outputs": [],
   "source": [
    "# configure Vault\n",
    "vault auth enable kubernetes\n",
    "vault write /auth/kubernetes/config \\\n",
    "    kubernetes_host=\"$(yq -r '.clusters[0].cluster.server' kube.yaml)\" \\\n",
    "    kubernetes_ca_cert=\"$(yq -r '.clusters[0].cluster.certificate-authority-data' kube.yaml | base64 -d)\" \\\n",
    "    token_reviewer_jwt=\"$LL_JWT_TOKEN\" \\\n",
    "    use_annotations_as_alias_metadata=true \\\n",
    "    issuer=\"https://kubernetes.default.svc.cluster.local\""
   ]
  },
  {
   "cell_type": "markdown",
   "id": "7aeba150-ee9f-43dc-8631-2860b4175ff1",
   "metadata": {},
   "source": [
    "### Creating a Role\n",
    "\n",
    "We will now create a role on the Kubernetes authentication method which allows any ServiceAccount to authenticate to Vault. Any ServiceAccounts that authenticates will be granted the `read-kubernetes-team-secrets` policy. We will write the policy later."
   ]
  },
  {
   "cell_type": "code",
   "execution_count": null,
   "id": "14206b11-4d42-43d7-860f-b4f3fb92d696",
   "metadata": {},
   "outputs": [],
   "source": [
    "vault write /auth/kubernetes/role/kubernetes-all-sa \\\n",
    "    bound_service_account_names=\"*\" \\\n",
    "    bound_service_account_namespaces=\"*\" \\\n",
    "    token_policies=\"read-kubernetes-team-secrets,default\""
   ]
  },
  {
   "cell_type": "markdown",
   "id": "7d6d08f1-7733-4733-a375-9d5d589b2420",
   "metadata": {},
   "source": [
    "### Writing our Policy\n",
    "\n",
    "Above we configured the `use_annotations_as_alias_metadata` field to enable setting `vault.hashicorp.com/alias-metadata-*` annotations that will add metadata to our entity alias for the Kubernetes authentication method. We can thus use these annotations to provide metadata to use in templated policies. However, we will actually just use the namespace itself in the templated policy. Let us assume that in our organisation, teams get their own namespace to work on. Thus the `cloud-operations` team would have their own namespace named identically. Any service account within that namespace should have access to the credentials of their team. However, since the Kubernetes cluster we just connected is a testing cluster, only the test credentials should be available.\n",
    "\n",
    "Complete the policy below to enable any ServiceAccount to access the test credentials of the team named like the namespace that contains it. You should use the template with `{{identity.entity.aliases.<mount accessor>.metadata.<metadata key>}}` where the mount accessor is given below. The metadata key is called `service_account_namespace`."
   ]
  },
  {
   "cell_type": "code",
   "execution_count": null,
   "id": "3db97ade-9e82-4e88-8480-c6b96232b099",
   "metadata": {},
   "outputs": [],
   "source": [
    "# get mount accessor for kubneretes\n",
    "vault auth list"
   ]
  },
  {
   "cell_type": "code",
   "execution_count": null,
   "id": "955a5b1a-328f-42b8-ba0a-16d091ad2ec8",
   "metadata": {},
   "outputs": [],
   "source": [
    "vault policy write read-kubernetes-team-secrets -<<-EOF\n",
    "path \"kv/data/...\" {\n",
    "  capabilities = [ \"read\" ]\n",
    "}\n",
    "EOF"
   ]
  },
  {
   "cell_type": "markdown",
   "id": "d2027965-3c89-4db2-9d79-0360b1f99bde",
   "metadata": {},
   "source": [
    "##### Testing the Policy"
   ]
  },
  {
   "cell_type": "code",
   "execution_count": null,
   "id": "ba08751a-a05a-4b72-a344-2d63097e9fae",
   "metadata": {},
   "outputs": [],
   "source": [
    "# login as a ServiceAccount in the cloud-operations namespace\n",
    "kubectl create ns cloud-operations\n",
    "kubectl -n cloud-operations create sa test-auth\n",
    "export TEST_JWT=\"$(printf '{\"spec\": {\"audiences\": []}}' | kubectl create --raw /api/v1/namespaces/cloud-operations/serviceaccounts/test-auth/token -f - | jq -r '.status.token')\"\n",
    "export SA_TOKEN=\"$(vault write -field=token /auth/kubernetes/login role=kubernetes-all-sa jwt=\"$TEST_JWT\")\"\n",
    "vault login \"$SA_TOKEN\" > /dev/null"
   ]
  },
  {
   "cell_type": "code",
   "execution_count": null,
   "id": "b67bca6c-bf4b-403a-b2a4-bad95173e7b3",
   "metadata": {},
   "outputs": [],
   "source": [
    "# the following should PASS\n",
    "vault kv get -mount=kv teams/cloud-operations/app/backend/stage/test/ldap-bind > /dev/null"
   ]
  },
  {
   "cell_type": "code",
   "execution_count": null,
   "id": "efa8e9ef-b636-4b69-8c50-1c23a8cf2e7d",
   "metadata": {},
   "outputs": [],
   "source": [
    "# the following should FAIL\n",
    "vault kv get -mount=kv teams/cloud-operations/app/backend/stage/prod/ldap-bind\n",
    "vault kv get -mount=kv teams/test/app/backend/stage/test/ldap-bind"
   ]
  },
  {
   "cell_type": "code",
   "execution_count": null,
   "id": "442877e4-9c58-4d69-b7ff-5918a6ff3083",
   "metadata": {},
   "outputs": [],
   "source": [
    "# login as a ServiceAccount in the another namespace\n",
    "kubectl create ns team-a\n",
    "kubectl -n team-a create sa test-auth\n",
    "export OTHER_TEST_JWT=\"$(printf '{\"spec\": {\"audiences\": []}}' | kubectl create --raw /api/v1/namespaces/team-a/serviceaccounts/test-auth/token -f - | jq -r '.status.token')\"\n",
    "export OTHER_SA_TOKEN=\"$(vault write -field=token /auth/kubernetes/login role=kubernetes-all-sa jwt=\"$OTHER_TEST_JWT\")\"\n",
    "vault login \"$OTHER_SA_TOKEN\" > /dev/null"
   ]
  },
  {
   "cell_type": "code",
   "execution_count": null,
   "id": "4918df3f-16dc-474e-98c2-af17e3521dfb",
   "metadata": {},
   "outputs": [],
   "source": [
    "# the following should FAIL\n",
    "vault kv get -mount=kv teams/cloud-operations/app/backend/stage/test/ldap-bind > /dev/null"
   ]
  },
  {
   "cell_type": "markdown",
   "id": "bcf76839-53cd-4705-b50e-d3da63ce2e83",
   "metadata": {},
   "source": [
    "## Cleaning Up\n",
    "\n",
    "At the end of each module, you should clean up your Vault instance. This is done by shutting it down and wiping its database to restore its state."
   ]
  },
  {
   "cell_type": "code",
   "execution_count": null,
   "id": "28c3cda1-2fa1-4b9b-9eb4-161d3b4dc00b",
   "metadata": {},
   "outputs": [],
   "source": [
    "kill $(cat /tmp/vault.pid)\n",
    "rm /tmp/vault.log\n",
    "rm /tmp/vault.pid\n",
    "kind delete cluster --name templated-policies"
   ]
  }
 ],
 "metadata": {
  "kernelspec": {
   "display_name": "Bash",
   "language": "bash",
   "name": "bash"
  },
  "language_info": {
   "codemirror_mode": "shell",
   "file_extension": ".sh",
   "mimetype": "text/x-sh",
   "name": "bash"
  }
 },
 "nbformat": 4,
 "nbformat_minor": 5
}
