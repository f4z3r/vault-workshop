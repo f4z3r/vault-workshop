{
 "cells": [
  {
   "cell_type": "markdown",
   "id": "a9cb60c5-431a-4097-930a-bd78fe174066",
   "metadata": {},
   "source": [
    "# Key Rotation\n",
    "\n",
    "Vault uses unseal keys for the following operations:\n",
    "\n",
    "- generate root tokens\n",
    "- seal the Vault\n",
    "- unseal the Vault\n",
    "\n",
    "As these operations are highly sensitive, it is very important to keep the keys very secure. One way to ensure the security of these keys, is to rotate them regularly. Moreover, it might be necessary to rotate them due to a leak, or because new key shares are required from a joiner/mover/leaver process. In this tutorial we will learn to work with these keys.\n",
    "\n",
    "### Starting Vault\n",
    "\n",
    "Let us start a Vault server. This will run Vault in the background and push the logs to `/tmp/vault.log`. If at any point in time the Vault crashes, this command will need to be used again to re-launch the Vault server."
   ]
  },
  {
   "cell_type": "code",
   "execution_count": null,
   "id": "c3a1bedd-8b35-4de1-891c-ced3a572248a",
   "metadata": {},
   "outputs": [],
   "source": [
    "nohup bash -c '\n",
    "  vault server -config ./assets/shamir-config.hcl\n",
    "' > /tmp/vault.log 2>&1 &\n",
    "echo $! > /tmp/vault.pid"
   ]
  },
  {
   "cell_type": "markdown",
   "id": "b094c2b8-f688-4d54-ba0c-19a6e7ef67e4",
   "metadata": {},
   "source": [
    "### Generating a Set of Unseal Keys\n",
    "\n",
    "We will generate a first set of unseal keys for our Vault. We will use 5 key shares and a threshold of 3."
   ]
  },
  {
   "cell_type": "code",
   "execution_count": null,
   "id": "cc01e543-b5f8-405c-9964-4aa1bf554787",
   "metadata": {},
   "outputs": [],
   "source": [
    "export VAULT_ADDR=\"http://localhost:8200\"\n",
    "vault operator init -format=json | tee /tmp/vault-unseal.json"
   ]
  },
  {
   "cell_type": "code",
   "execution_count": null,
   "id": "4def7b56-9662-4347-96ca-b4d87e020644",
   "metadata": {},
   "outputs": [],
   "source": [
    "# unseal the vault\n",
    "vault operator unseal \"$(jq -r '.unseal_keys_b64[0]' < /tmp/vault-unseal.json)\" > /dev/null\n",
    "vault operator unseal \"$(jq -r '.unseal_keys_b64[1]' < /tmp/vault-unseal.json)\" > /dev/null\n",
    "vault operator unseal \"$(jq -r '.unseal_keys_b64[2]' < /tmp/vault-unseal.json)\" > /dev/null"
   ]
  },
  {
   "cell_type": "markdown",
   "id": "98255735-129c-456a-a725-c285cfbfad1b",
   "metadata": {},
   "source": [
    "### Simple Rotations\n",
    "\n",
    "Simple rotations do not involve any additional layer of security. In other words, the keys are rotated by initialising a rotation, and then providing the current unseal keys to Vault. Once this is done, the new keys are returned. This is typically not ideal, as the person providing the last old key share will see all new keys and need to distribute them. In practice you would want to request Vault to GPG encrypt these key shares first, so that the person entering the last key share gets encrypted data as a response.\n",
    "\n",
    "Let us start a simple rekey. Update the command below to create 7 key shares (assume the team managing Vault got two new members), with a key threshold still of 3."
   ]
  },
  {
   "cell_type": "code",
   "execution_count": null,
   "id": "bea10e6c-d8af-47d5-aa62-82a6135120a6",
   "metadata": {},
   "outputs": [],
   "source": [
    "# update the command below to correctly use 7 key shares and a threshold of 3\n",
    "vault operator rekey -init -key-shares=<x> -key-threshold=<y> -format=json | tee /tmp/vault-rekey.json"
   ]
  },
  {
   "cell_type": "code",
   "execution_count": null,
   "id": "f4a55136-17a1-498a-9027-7e1d70ada274",
   "metadata": {},
   "outputs": [],
   "source": [
    "# check the status of the current rekey operation\n",
    "vault operator rekey -status"
   ]
  },
  {
   "cell_type": "code",
   "execution_count": null,
   "id": "94467d4f-25d4-4823-a3b7-f434bba7f848",
   "metadata": {},
   "outputs": [],
   "source": [
    "# provide first unseal key share\n",
    "vault operator rekey -nonce=\"$(jq -r '.nonce' < /tmp/vault-rekey.json)\" \"$(jq -r '.unseal_keys_b64[0]' < /tmp/vault-unseal.json)\""
   ]
  },
  {
   "cell_type": "code",
   "execution_count": null,
   "id": "e080f535-bcf8-4c46-ba43-66a17ea4b8d0",
   "metadata": {},
   "outputs": [],
   "source": [
    "# provide second unseal key share\n",
    "vault operator rekey -nonce=\"$(jq -r '.nonce' < /tmp/vault-rekey.json)\" \"$(jq -r '.unseal_keys_b64[1]' < /tmp/vault-unseal.json)\" > /dev/null"
   ]
  },
  {
   "cell_type": "code",
   "execution_count": null,
   "id": "7da0e7ba-6eb5-4969-aefe-1e6094082ccf",
   "metadata": {},
   "outputs": [],
   "source": [
    "# provide third and last unseal key share\n",
    "vault operator rekey -format=json -nonce=\"$(jq -r '.nonce' < /tmp/vault-rekey.json)\" \"$(jq -r '.unseal_keys_b64[2]' < /tmp/vault-unseal.json)\" | tee /tmp/vault-rekey-result.json"
   ]
  },
  {
   "cell_type": "markdown",
   "id": "42129b9e-a0e2-4daf-a993-e9e0eae7574c",
   "metadata": {},
   "source": [
    "Nice, once you have done this, you completed a rotation. At this point, the key shares provided in the output would need to be distributed to the team members. This is where the issues can start, as the person distributing the keys obviously has access to these keys, and therefore needs to be trusted to not store them somewhere for later use. A better process is to ensure these are encrypted and can only be seen by the person the key share is meant to be."
   ]
  },
  {
   "cell_type": "markdown",
   "id": "2ca7812d-85de-48f3-a5d7-b3521bca8920",
   "metadata": {},
   "source": [
    "### GPG Encrypted Key Shares\n",
    "\n",
    "When using GPG, every user needs to have a GPG keys set. This consists of a public key and a private key. In this scenario we will use the public key to encrypt the key shares directly in Vault. Thus only the people in posession of the private key can decrypt and thus use their key share. Here we will create 3 GPG key pairs. Of course, in the real world, every person would only create one such key pair and share the public key with others either via a key server or via trusted channels. For the sake of simplicity we are creating all three key pair locally here."
   ]
  },
  {
   "cell_type": "code",
   "execution_count": null,
   "id": "485a26cd-f84f-40a0-8e2d-fd52d32cc8ff",
   "metadata": {},
   "outputs": [],
   "source": [
    "mkdir .gnupg\n",
    "export GNUPGHOME=\"$(pwd)/.gnupg\"\n",
    "cat > /tmp/user1 <<EOF\n",
    "    %echo Generating a basic OpenPGP key\n",
    "    Key-Type: RSA\n",
    "    Key-Length: 2048\n",
    "    Subkey-Type: RSA\n",
    "    Subkey-Length: 2048\n",
    "    Name-Real: User 1\n",
    "    Name-Comment: User 1\n",
    "    Name-Email: user1@example.com\n",
    "    Expire-Date: 0\n",
    "    %no-ask-passphrase\n",
    "    %no-protection\n",
    "    %commit\n",
    "    %echo done\n",
    "EOF\n",
    "gpg --batch --gen-key /tmp/user1\n",
    "cat > /tmp/user2 <<EOF\n",
    "    %echo Generating a basic OpenPGP key\n",
    "    Key-Type: RSA\n",
    "    Key-Length: 2048\n",
    "    Subkey-Type: RSA\n",
    "    Subkey-Length: 2048\n",
    "    Name-Real: User 2\n",
    "    Name-Comment: User 2\n",
    "    Name-Email: user2@example.com\n",
    "    Expire-Date: 0\n",
    "    %no-ask-passphrase\n",
    "    %no-protection\n",
    "    %commit\n",
    "    %echo done\n",
    "EOF\n",
    "gpg --batch --gen-key /tmp/user2\n",
    "cat > /tmp/user3 <<EOF\n",
    "    %echo Generating a basic OpenPGP key\n",
    "    Key-Type: RSA\n",
    "    Key-Length: 2048\n",
    "    Subkey-Type: RSA\n",
    "    Subkey-Length: 2048\n",
    "    Name-Real: User 3\n",
    "    Name-Comment: User 3\n",
    "    Name-Email: user3@example.com\n",
    "    Expire-Date: 0\n",
    "    %no-ask-passphrase\n",
    "    %no-protection\n",
    "    %commit\n",
    "    %echo done\n",
    "EOF\n",
    "gpg --batch --gen-key /tmp/user3"
   ]
  },
  {
   "cell_type": "code",
   "execution_count": null,
   "id": "b8ebae97-f606-47be-896f-3bceff76b097",
   "metadata": {},
   "outputs": [],
   "source": [
    "# List the keys and validate that they were created correctly.\n",
    "gpg --list-keys"
   ]
  },
  {
   "cell_type": "markdown",
   "id": "657294a2-97b6-42a5-aac6-b4c991af5a29",
   "metadata": {},
   "source": [
    "### Exporting Public Keys\n",
    "\n",
    "Once the key pairs are generated, the public keys can either be shared via a key server, or provided to Vault as files. Here we will use the files approach. Note that this is actually quite common. For instance, if you already have a secure version control system set up, and sign you commits, you can easily share your public keys on your version control system by commiting them somewhere and signing that commit. That way people can verify that the public key truly did originate from you and trust its integrity. Let us export the public keys to local files:"
   ]
  },
  {
   "cell_type": "code",
   "execution_count": null,
   "id": "d713fdf8-f64d-4207-9962-68fca7916a20",
   "metadata": {},
   "outputs": [],
   "source": [
    "gpg --export -a user1@example.com > user1-pub.asc\n",
    "gpg --export -a user2@example.com > user2-pub.asc\n",
    "gpg --export -a user3@example.com > user3-pub.asc"
   ]
  },
  {
   "cell_type": "markdown",
   "id": "a564cff0-0163-423d-9f46-463060eacacf",
   "metadata": {},
   "source": [
    "Now a rekey can be triggered using the `-pgp-keys` flag, where the list of files can be provided. Note that the list of files must have the same length as the keys shares that are being generated. Initialise the key rotation:"
   ]
  },
  {
   "cell_type": "code",
   "execution_count": null,
   "id": "82a1ac43-4a6b-4c6f-8cdf-40cc8ed5d70b",
   "metadata": {},
   "outputs": [],
   "source": [
    "vault operator rekey -init -key-shares=<x> -key-threshold=<y> -pgp-keys=\"<comma-list-of-files>\" -format=json | tee /tmp/vault-rekey-gpg.json"
   ]
  },
  {
   "cell_type": "markdown",
   "id": "53388343-9807-48e9-9613-1fd666d74007",
   "metadata": {},
   "source": [
    "### Verifying The Rekey\n",
    "\n",
    "Now, as a Vault operator, I would want to know that whoever initiated the key rotation truly provided the correct GPG keys before I submit my Vault key share to push the progress of the rekey. This can be done via the rekey status command we used before. This will show the GPG public key IDs that were submitted. I can then compare these IDs to my known public keys, or submit them to a key server to figure out who they belong to.\n",
    "\n",
    "For instance, you can search for my public key ID `96A8BA6EC8712183` on https://keys.openpgp.org/. If you download the public key you will see that it is linked to my GitHub email address `f4z3r-github@pm.me`. You can also validate this by searching by the email address on https://keys.openpgp.org/ and compare the key signature it finds with the one you found by searching by ID.\n",
    "\n",
    "So now you can execute that command and check the IDs. These should match the IDs that were shown by the `gpg --list-keys` command above."
   ]
  },
  {
   "cell_type": "code",
   "execution_count": null,
   "id": "cfe49615-7089-49d4-af7b-17dff42b16b5",
   "metadata": {},
   "outputs": [],
   "source": [
    "vault operator rekey -status"
   ]
  },
  {
   "cell_type": "markdown",
   "id": "a022fe3e-8556-4100-bf6a-e57f921bbb73",
   "metadata": {},
   "source": [
    "Now that this is validated, let us trigger the rekey by providing 3 key shares:"
   ]
  },
  {
   "cell_type": "code",
   "execution_count": null,
   "id": "f7837085-e549-4926-a475-bcf9cd9634e0",
   "metadata": {},
   "outputs": [],
   "source": [
    "vault operator rekey -nonce=\"$(jq -r '.nonce' < /tmp/vault-rekey-gpg.json)\" \"$(jq -r '.unseal_keys_b64[0]' < /tmp/vault-rekey.json)\"\n",
    "vault operator rekey -nonce=\"$(jq -r '.nonce' < /tmp/vault-rekey-gpg.json)\" \"$(jq -r '.unseal_keys_b64[1]' < /tmp/vault-rekeyw.json)\"\n",
    "vault operator rekey -format=json -nonce=\"$(jq -r '.nonce' < /tmp/vault-rekey-gpg.json)\" \"$(jq -r '.unseal_keys_b64[2]' < /tmp/vault-rekey.json)\" | tee /tmp/vault-rekey-gpg-result.json"
   ]
  },
  {
   "cell_type": "markdown",
   "id": "315b2765-9bd7-41f1-9b23-58dc177c73eb",
   "metadata": {},
   "source": [
    "### Decrypting a Key Share\n",
    "\n",
    "As you can see, the key shares are much longer now. This is because they are encrypted by GPG. You can have a look at what their representation by base64 decoding them. But much more interestingly we might want to decrypt such a key share. In practice, the person that performs the last rekey would send the encrypted key shares to the people owning the public keys. He/she cannot do anything with the encrypted key shares.\n",
    "\n",
    "When someone receives a key share for which they own the private GPG key, then can then decrypt the key share as done below. Of course, since we are now the owner of all three GPG private keys, we can decrypt all three. In practice, we would only have access to our own GPG private key."
   ]
  },
  {
   "cell_type": "code",
   "execution_count": null,
   "id": "b70a8a21-aea1-4010-9a60-16f231aa0e92",
   "metadata": {},
   "outputs": [],
   "source": [
    "jq -r '.keys_base64[0]' < /tmp/vault-rekey-gpg-result.json | base64 -d | gpg --decrypt"
   ]
  },
  {
   "cell_type": "markdown",
   "id": "988298e4-2afe-430e-863d-ba17f0f47fb9",
   "metadata": {},
   "source": [
    "## Cleaning Up\n",
    "\n",
    "At the end of each module, you should clean up your Vault instance. This is done by shutting it down and wiping its database to restore its state."
   ]
  },
  {
   "cell_type": "code",
   "execution_count": null,
   "id": "cc775067-3c7b-42d0-bdc9-23a43846f00b",
   "metadata": {},
   "outputs": [],
   "source": [
    "kill $(cat /tmp/vault.pid)\n",
    "rm /tmp/vault/vault.db\n",
    "rm -r /tmp/vault/raft/\n",
    "rm /tmp/vault.log\n",
    "rm /tmp/vault.pid\n",
    "rm /tmp/vault-unseal.json\n",
    "rm /tmp/vault-rekey.json\n",
    "rm /tmp/vault-rekey-result.json\n",
    "rm -rf .gnupg/\n",
    "rm *.asc"
   ]
  }
 ],
 "metadata": {
  "kernelspec": {
   "display_name": "Bash",
   "language": "bash",
   "name": "bash"
  },
  "language_info": {
   "codemirror_mode": "shell",
   "file_extension": ".sh",
   "mimetype": "text/x-sh",
   "name": "bash"
  }
 },
 "nbformat": 4,
 "nbformat_minor": 5
}
