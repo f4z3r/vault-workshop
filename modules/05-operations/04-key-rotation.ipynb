{
 "cells": [
  {
   "cell_type": "markdown",
   "id": "a9cb60c5-431a-4097-930a-bd78fe174066",
   "metadata": {},
   "source": [
    "# Key Rotation\n",
    "\n",
    "Vault uses unseal keys for the following operations:\n",
    "\n",
    "- generate root tokens\n",
    "- seal the Vault\n",
    "- unseal the Vault\n",
    "\n",
    "As these operations are highly sensitive, it is very important to keep the keys very secure. One way to ensure the security of these keys, is to rotate them regularly. Moreover, it might be necessary to rotate them due to a leak, or because new key shares are required from a joiner/mover/leaver process. In this tutorial we will learn to work with these keys.\n",
    "\n",
    "### Starting Vault\n",
    "\n",
    "Let us start a Vault server. This will run Vault in the background and push the logs to `/tmp/vault.log`. If at any point in time the Vault crashes, this command will need to be used again to re-launch the Vault server."
   ]
  },
  {
   "cell_type": "code",
   "execution_count": null,
   "id": "c3a1bedd-8b35-4de1-891c-ced3a572248a",
   "metadata": {},
   "outputs": [],
   "source": [
    "nohup bash -c '\n",
    "  vault server -config ./assets/shamir-config.hcl\n",
    "' > /tmp/vault.log 2>&1 &\n",
    "echo $! > /tmp/vault.pid"
   ]
  },
  {
   "cell_type": "markdown",
   "id": "b094c2b8-f688-4d54-ba0c-19a6e7ef67e4",
   "metadata": {},
   "source": [
    "### Generating a Set of Unseal Keys\n",
    "\n",
    "We will generate a first set of unseal keys for our Vault. We will use 5 key shares and a threshold of 3."
   ]
  },
  {
   "cell_type": "code",
   "execution_count": null,
   "id": "cc01e543-b5f8-405c-9964-4aa1bf554787",
   "metadata": {},
   "outputs": [],
   "source": [
    "export VAULT_ADDR=\"http://localhost:8200\"\n",
    "vault operator init -format=json | tee /tmp/vault-unseal.json"
   ]
  },
  {
   "cell_type": "code",
   "execution_count": null,
   "id": "4def7b56-9662-4347-96ca-b4d87e020644",
   "metadata": {},
   "outputs": [],
   "source": [
    "# unseal the vault\n",
    "vault operator unseal \"$(jq -r '.unseal_keys_b64[0]' < /tmp/vault-unseal.json)\" > /dev/null\n",
    "vault operator unseal \"$(jq -r '.unseal_keys_b64[1]' < /tmp/vault-unseal.json)\" > /dev/null\n",
    "vault operator unseal \"$(jq -r '.unseal_keys_b64[2]' < /tmp/vault-unseal.json)\" > /dev/null"
   ]
  },
  {
   "cell_type": "markdown",
   "id": "98255735-129c-456a-a725-c285cfbfad1b",
   "metadata": {},
   "source": [
    "### Simple Rotations\n",
    "\n",
    "Simple rotations do not involve any additional layer of security. In other words, the keys are rotated by initialising a rotation, and then providing the current unseal keys to Vault. Once this is done, the new keys are returned. This is typically not ideal, as the person providing the last old key share will see all new keys and need to distribute them. In practice you would want to request Vault to GPG encrypt these key shares first, so that the person entering the last key share gets encrypted data as a response.\n",
    "\n",
    "Let us start a simple rekey. Update the command below to create 7 key shares (assume the team managing Vault got two new members), with a key threshold still of 3."
   ]
  },
  {
   "cell_type": "code",
   "execution_count": null,
   "id": "bea10e6c-d8af-47d5-aa62-82a6135120a6",
   "metadata": {},
   "outputs": [],
   "source": [
    "vault operator rekey -init -key-shares=<x> -key-threshold=<y> -format=json | tee /tmp/vault-rekey.json"
   ]
  },
  {
   "cell_type": "code",
   "execution_count": null,
   "id": "f4a55136-17a1-498a-9027-7e1d70ada274",
   "metadata": {},
   "outputs": [],
   "source": [
    "# check the status of the current rekey operation\n",
    "vault operator rekey -status"
   ]
  },
  {
   "cell_type": "code",
   "execution_count": null,
   "id": "94467d4f-25d4-4823-a3b7-f434bba7f848",
   "metadata": {},
   "outputs": [],
   "source": [
    "# provide first unseal key share\n",
    "vault operator rekey -nonce=\"$(jq -r '.nonce' < /tmp/vault-rekey.json)\" \"$(jq -r '.unseal_keys_b64[0]' < /tmp/vault-unseal.json)\""
   ]
  },
  {
   "cell_type": "code",
   "execution_count": null,
   "id": "e080f535-bcf8-4c46-ba43-66a17ea4b8d0",
   "metadata": {},
   "outputs": [],
   "source": [
    "# provide second unseal key share\n",
    "vault operator rekey -nonce=\"$(jq -r '.nonce' < /tmp/vault-rekey.json)\" \"$(jq -r '.unseal_keys_b64[1]' < /tmp/vault-unseal.json)\" > /dev/null"
   ]
  },
  {
   "cell_type": "code",
   "execution_count": null,
   "id": "7da0e7ba-6eb5-4969-aefe-1e6094082ccf",
   "metadata": {},
   "outputs": [],
   "source": [
    "# provide third and last unseal key share\n",
    "vault operator rekey -format=json -nonce=\"$(jq -r '.nonce' < /tmp/vault-rekey.json)\" \"$(jq -r '.unseal_keys_b64[2]' < /tmp/vault-unseal.json)\"| tee /tmp/vault-rekey-result.json"
   ]
  },
  {
   "cell_type": "markdown",
   "id": "988298e4-2afe-430e-863d-ba17f0f47fb9",
   "metadata": {},
   "source": [
    "## Cleaning Up\n",
    "\n",
    "At the end of each module, you should clean up your Vault instance. This is done by shutting it down and wiping its database to restore its state."
   ]
  },
  {
   "cell_type": "code",
   "execution_count": null,
   "id": "cc775067-3c7b-42d0-bdc9-23a43846f00b",
   "metadata": {},
   "outputs": [],
   "source": [
    "kill $(cat /tmp/vault.pid)\n",
    "rm /tmp/vault/vault.db\n",
    "rm -r /tmp/vault/raft/\n",
    "rm /tmp/vault.log\n",
    "rm /tmp/vault.pid\n",
    "rm /tmp/vault-unseal.json\n",
    "rm /tmp/vault-rekey.json\n",
    "rm /tmp/vault-rekey-result.json"
   ]
  },
  {
   "cell_type": "code",
   "execution_count": null,
   "id": "67885a75-fe14-423d-bc1c-10ef81a620cf",
   "metadata": {},
   "outputs": [],
   "source": []
  }
 ],
 "metadata": {
  "kernelspec": {
   "display_name": "Bash",
   "language": "bash",
   "name": "bash"
  },
  "language_info": {
   "codemirror_mode": "shell",
   "file_extension": ".sh",
   "mimetype": "text/x-sh",
   "name": "bash"
  }
 },
 "nbformat": 4,
 "nbformat_minor": 5
}
