{
 "cells": [
  {
   "cell_type": "markdown",
   "id": "9fa08744-fe30-44d5-8185-7bbc506a9822",
   "metadata": {},
   "source": [
    "# Unsealing\n",
    "\n",
    "Vault offers a variety of seals to encrypt its backend storage. The standard seal is the Shamir seal based on [Shamir's secret sharing](https://en.wikipedia.org/wiki/Shamir%27s_secret_sharing). However Vault also offers other seal mechanisms that rely on external systems to provide cryptographic capabilities to enable the decription of the backend.\n",
    "\n",
    "## Shamir Seals\n",
    "\n",
    "Let us first look at Shamir seals. They rely on key shares that need to be combined in order to create the final key enabling the decription of the storage backend. It should be noted that the Shamir secret itself does not encrypt the backend directly, but rather encrypts the master encryption key of the backend, such that the encrypted version of the master encryption key can be stored on disk.\n",
    "\n",
    "![](assets/img/shamir-keys.png)\n",
    "\n",
    "First, let us check the Vault configuration. The Shamir seal is the default, and is configured by the **absence** of any `seal` stanza in the configuration:"
   ]
  },
  {
   "cell_type": "code",
   "execution_count": null,
   "id": "08658091-8477-4aa3-8872-e4932d7013f0",
   "metadata": {},
   "outputs": [],
   "source": [
    "cat ./assets/shamir-config.hcl"
   ]
  },
  {
   "cell_type": "markdown",
   "id": "ce3982c7-ee7a-485e-90cc-0fdfbe997196",
   "metadata": {},
   "source": [
    "Now let us start a Vault instance with this configuration:"
   ]
  },
  {
   "cell_type": "code",
   "execution_count": null,
   "id": "262fe93f-5fc2-42c2-89c7-5c91bcbaf6f0",
   "metadata": {},
   "outputs": [],
   "source": [
    "nohup bash -c '\n",
    "  vault server -config ./assets/shamir-config.hcl\n",
    "' > /tmp/vault.log 2>&1 &\n",
    "echo $! > /tmp/vault.pid"
   ]
  },
  {
   "cell_type": "markdown",
   "id": "6fe88892-f423-4a1e-93de-5592465e073f",
   "metadata": {},
   "source": [
    "### Checking Seal Status\n",
    "\n",
    "The Vault at this point is not initialised. We will first need to initialize its storage backend. When initializing the storage, we can provide the number of key shares we would like to be generated for the Shamir seal. Moreover, we can provide the threshold of shares required to generate the key. Only a subset the size of the threshold will be required to unseal the Vault. This enables the distribution of individual key shares across various people, while allowing a subset of these people to then unseal the Vault whenever necessary. A single person with a single key share can however never perform any action by themselves (unless the threshold is set to 1). This is important because this threshold of key shares is also required to generate root tokens, which a single person should never be able to do by themselves.\n",
    "\n",
    "Below we will first check the status of the Vault and validate that it is not initialized. Then, use the `vault operator init` command with the `-key-shares` and `-key-threshold` flags to initialise the storage.\n",
    "\n",
    "We pipe the output of that command to a file (`/tmp/vault-unseal.log`) as its output is critical to retain.\n",
    "\n",
    "Thus:\n",
    "\n",
    "1. Check the status of the vault using `vault status`.\n",
    "2. Initialise the storage backend with a **threshold of 2** and **3 key shares** using the `vault operator init` command."
   ]
  },
  {
   "cell_type": "code",
   "execution_count": null,
   "id": "6e40bd46-1215-46b2-9a1c-39c0ae2bcc74",
   "metadata": {},
   "outputs": [],
   "source": [
    "# check status and see that the `Initialized` field is `false`\n",
    "export VAULT_ADDR=\"http://localhost:8200\"\n",
    "vault status"
   ]
  },
  {
   "cell_type": "code",
   "execution_count": null,
   "id": "c205ba4c-daf0-44ad-a8af-cc6c1916c36e",
   "metadata": {},
   "outputs": [],
   "source": [
    "# initialise the Vault storage backend (and thus the seal)\n",
    "vault operator init <fill in here> | tee /tmp/vault-unseal.log"
   ]
  },
  {
   "cell_type": "markdown",
   "id": "7f551f0f-72bd-460f-bbcc-8e7f9f3ecbf3",
   "metadata": {},
   "source": [
    "### Unsealing the Vault\n",
    "\n",
    "Now you can use the `vault operator unseal` command to unseal the Vault. You will need to repeat this with 2 different key shares in order to unseal the Vault:"
   ]
  },
  {
   "cell_type": "code",
   "execution_count": null,
   "id": "694d3e63-1725-4659-8938-13dd1d16322c",
   "metadata": {},
   "outputs": [],
   "source": [
    "vault operator unseal \"<your key share>\""
   ]
  },
  {
   "cell_type": "code",
   "execution_count": null,
   "id": "e23fc5ed-8039-47b5-9023-b5fb3b654f51",
   "metadata": {},
   "outputs": [],
   "source": [
    "vault operator unseal \"<your key share>\""
   ]
  },
  {
   "cell_type": "markdown",
   "id": "8bad4beb-dad2-48ce-a149-cb23cb0b0fba",
   "metadata": {},
   "source": [
    "### Checking the Status Again\n",
    "\n",
    "Your last unseal command should have returned `false` in the `Sealed` field. This means that Vault is now unsealed and thus ready to use. You can therefore try to login and perform actions against the Vault. Let us try this:\n",
    "\n",
    "1. Login to the Vault using the `vault login` command with the root token returned from the `vault operator init` command above."
   ]
  },
  {
   "cell_type": "code",
   "execution_count": null,
   "id": "54b81e02-2faa-4e64-a7bc-e8211e890223",
   "metadata": {},
   "outputs": [],
   "source": [
    "vault login \"<your root token here>\""
   ]
  },
  {
   "cell_type": "markdown",
   "id": "14906795-c461-429e-82ff-680e7b8c6e25",
   "metadata": {},
   "source": [
    "## Cleaning Up\n",
    "\n",
    "At the end of each module, you should clean up your Vault instance. This is done by shutting it down and wiping its database to restore its state."
   ]
  },
  {
   "cell_type": "code",
   "execution_count": null,
   "id": "841fbe8a-2dbb-4a69-93ef-4bec94e7e1b1",
   "metadata": {},
   "outputs": [],
   "source": [
    "kill $(cat /tmp/vault.pid)\n",
    "rm /tmp/vault/vault.db\n",
    "rm -r /tmp/vault/raft/\n",
    "rm /tmp/vault.log\n",
    "rm /tmp/vault.pid\n",
    "rm /tmp/vault-unseal.log"
   ]
  }
 ],
 "metadata": {
  "kernelspec": {
   "display_name": "Bash",
   "language": "bash",
   "name": "bash"
  },
  "language_info": {
   "codemirror_mode": "shell",
   "file_extension": ".sh",
   "mimetype": "text/x-sh",
   "name": "bash"
  }
 },
 "nbformat": 4,
 "nbformat_minor": 5
}
