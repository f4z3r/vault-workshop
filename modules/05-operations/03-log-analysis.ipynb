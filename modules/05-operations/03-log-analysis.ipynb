{
 "cells": [
  {
   "cell_type": "markdown",
   "id": "f946cee8-99ca-4dad-acc4-b527e9087d79",
   "metadata": {},
   "source": [
    "# Log Analysis\n",
    "\n",
    "Vault offers two types of logs:\n",
    "\n",
    "- server logs\n",
    "- audit logs\n",
    "\n",
    "Server logs provide information on the software operation of Vault. This includes information such as leader elections, and other operational insights into what Vault is doing internally. The audit logs on the other hand provide logs on every request and response made to Vault. These are critical to understand the usage of Vault.\n",
    "\n",
    "### Server Logs\n",
    "\n",
    "Server logs are configured statically in the Vault configuration and offers quite [a few options](https://developer.hashicorp.com/vault/docs/configuration#log_level) including the rotation of log files. We will not look at this in depth, as there is little operational tasks that are Vault specific here. Typically these logs are written to file and ideally pushed/pulled to a log aggregation system such as Splunk.\n",
    "\n",
    "### Audit Logs\n",
    "\n",
    "Audit logs are configured via [the API](https://developer.hashicorp.com/vault/api-docs/system/audit) and support various audit deviced. **Audit logs are not enabled by default** and should thus be configured early on. Vault supports various audit devices such as:\n",
    "\n",
    "- file (including stdout)\n",
    "- syslog\n",
    "- socket\n",
    "\n",
    "In production, the best option is probably to use a socket device where a log forwarding daemon listens and forwards them to a central instance. A great article on the pros and cons of how to configure audit logging can be found [on the HashiCorp blog](https://www.hashicorp.com/en/blog/vault-logging-and-alerting-on-day-1).\n",
    "\n",
    "In this tutorial we will enable audit logging and then try to analyse these logs.\n",
    "\n",
    "### Starting Vault\n",
    "\n",
    "Let us start a Vault server. This will run Vault in the background and push the logs to `/tmp/vault.log`. If at any point in time the Vault crashes, this command will need to be used again to re-launch the Vault server."
   ]
  },
  {
   "cell_type": "code",
   "execution_count": null,
   "id": "7afd85c4-06f6-462a-a302-681aa395018c",
   "metadata": {},
   "outputs": [],
   "source": [
    "nohup bash -c '\n",
    "  vault server -dev -dev-root-token-id=root-token\n",
    "' > /tmp/vault.log 2>&1 &\n",
    "echo $! > /tmp/vault.pid"
   ]
  },
  {
   "cell_type": "markdown",
   "id": "8bae50b3-b4e3-4fad-939f-7d052c1f5bb9",
   "metadata": {},
   "source": [
    "### Login to Vault\n",
    "\n",
    "Let us login to Vault. We started a development version vor simplicity."
   ]
  },
  {
   "cell_type": "code",
   "execution_count": null,
   "id": "6367e15c-7fd0-45d2-aa92-2986a9ddbcef",
   "metadata": {},
   "outputs": [],
   "source": [
    "export VAULT_ADDR=\"http://127.0.0.1:8200\"\n",
    "vault login root-token"
   ]
  },
  {
   "cell_type": "markdown",
   "id": "f02c8151-f2d6-4721-9ba2-1b2bb7ea7bc9",
   "metadata": {},
   "source": [
    "### Enabling the Audit Logging\n",
    "\n",
    "The audit logging can be enabled using the CLI with the `vault audit enable` subcommand. Have a look at [the command description](https://developer.hashicorp.com/vault/docs/commands/audit/enable) and enable audit logging to the `/tmp/vault-audit.log` file."
   ]
  },
  {
   "cell_type": "code",
   "execution_count": null,
   "id": "57f186d6-9536-47ff-a6f9-d7eab34322d0",
   "metadata": {},
   "outputs": [],
   "source": [
    "vault audit enable ..."
   ]
  },
  {
   "cell_type": "markdown",
   "id": "5b90c96c-ec05-4f49-8a21-825ad40aba5c",
   "metadata": {},
   "source": [
    "### Validate\n",
    "\n",
    "The audit log should directly log that audit logging was enabled. Vault performs a \"test audit\" directly after enabling the audit log in order to ensure it can perform an audit log. This is critically important, as Vault will not perform requests while it cannot audit log (called log-request failures). In such cases Vault will shut down in order to avoid performing operations that are missing in the audit log.\n",
    "\n",
    "Let us check that the audit log already contains such a test entry:"
   ]
  },
  {
   "cell_type": "code",
   "execution_count": null,
   "id": "2aafa138-3a8f-4bdb-9e5f-533216d58473",
   "metadata": {},
   "outputs": [],
   "source": [
    "# pretty print the first line in the audit log\n",
    "head -n1 /tmp/vault-audit.log | jq"
   ]
  },
  {
   "cell_type": "markdown",
   "id": "13d29b4a-dea4-4fce-ad21-499a1e1e497e",
   "metadata": {},
   "source": [
    "### Checking Audit Logs\n",
    "\n",
    "As one can see, audit logs are formatted in JSON for easier parsing. In this first entry, one can see that the log is of type `\"request\"`, meaning an incoming call to Vault. This is opposed to `\"response\"` logs where Vault logs what it replied. Of course, the audit log contains a timestamp. In the case of requests, it contains information on what endpoint was called with what operation (in this case the `sys/audit/test` endpoint with an `update` - `PUT` operation). Let us have a look at the response:"
   ]
  },
  {
   "cell_type": "code",
   "execution_count": null,
   "id": "fbde35b4-0967-4ead-9e5e-c927e01051ec",
   "metadata": {},
   "outputs": [],
   "source": [
    "# pretty print the second line in the audit log\n",
    "head -n2 /tmp/vault-audit.log | tail -n1 | jq"
   ]
  },
  {
   "cell_type": "markdown",
   "id": "5ba7d8a7-fb1f-451b-a3c8-211857c2b3fe",
   "metadata": {},
   "source": [
    "### Analysing Responses\n",
    "\n",
    "As one can see, `\"response\"` type audit logs typically contain much more information. They typically contain a request part in order to link the response to the request that triggered the response. In this case, one can see that the response is **not** for the test call we saw in the first line of the log, but rather from the actual call creating the audit device (as seen by the `request.path` value that is `/sys/audit/file` - the endpoint we called with `vault audit enable` above).\n",
    "\n",
    "Take a deeper look at the remaining information available in the audit log.\n",
    "\n",
    "Note all the fields that contain `hmac-sha256:` prefixed in the values. This is because Vault handles a lot of sensitive data that should not land in any logs. Thus Vault hashes most response values before logging them. This hash **is unique to the Vault cluster and audit device** that generated it. This is important to avoid attacker trying to audit hash values on another Vault instance and compare the hashes to the ones present in a leaked audit log.\n",
    "\n",
    "But then how do we actually find anything in the audit log? Vault offers an endpoint to audit-hash inputs, which can then be compared to the audit logs of that same Vault.\n",
    "\n",
    "Let us first create a couple more entries in the audit log:"
   ]
  },
  {
   "cell_type": "code",
   "execution_count": null,
   "id": "6e4ca44d-4b2e-44a7-9127-41b326a56a72",
   "metadata": {},
   "outputs": [],
   "source": [
    ". ./assets/populate-vault-secrets.sh"
   ]
  },
  {
   "cell_type": "markdown",
   "id": "7c9ec77e-5f65-4e48-ac79-f1fa839b0c19",
   "metadata": {},
   "source": [
    "### Filtering the Audit Log\n",
    "\n",
    "As the audit log is in JSON format, we can use `jq` to perform quite powerful searches in the audit log. For instance, to filter for audits on the path `teams/cloud-operations/app/backend/database` we can preform the following filter:"
   ]
  },
  {
   "cell_type": "code",
   "execution_count": null,
   "id": "49146b5e-4ea0-4381-86ea-0175f83f6edd",
   "metadata": {},
   "outputs": [],
   "source": [
    "jq 'select(.request.path == \"secret/data/teams/cloud-operations/app/backend/database\")' /tmp/vault-audit.log"
   ]
  },
  {
   "cell_type": "markdown",
   "id": "6cc1dad7-e6f5-4f8b-85b3-e18eaaa8f967",
   "metadata": {},
   "source": [
    "### Finding Requests of Admin Users\n",
    "\n",
    "Let us try to filter the audit log for requests that retrieved credentials with username `admin`. First, we will need to audit hash `admin`. Fill in the blank below to generate such a hash:"
   ]
  },
  {
   "cell_type": "code",
   "execution_count": null,
   "id": "5997875a-0319-4fc4-bdc2-87d16885cc5f",
   "metadata": {},
   "outputs": [],
   "source": [
    "export ADMIN_AUDIT_HASH=\"$(vault write -field=hash /sys/audit-hash/file input='...')\"\n",
    "echo $ADMIN_AUDIT_HASH"
   ]
  },
  {
   "cell_type": "markdown",
   "id": "073d4955-579e-4a82-bdba-501b974d8cd6",
   "metadata": {},
   "source": [
    "If you are unfamiliar with `jq`, you can find information on how to create queries and even an online playground here: https://jqlang.org/manual/#invoking-jq\n",
    "\n",
    "Now let us filter the log entries that contained `username == admin` in the **response** (i.e. someone retrieved a credentials with `admin` as the username):"
   ]
  },
  {
   "cell_type": "code",
   "execution_count": null,
   "id": "9e2f7dda-6c62-4359-bc4a-cfa1603ad151",
   "metadata": {},
   "outputs": [],
   "source": [
    "jq \"select(.response.data.data.username == \\\"$ADMIN_AUDIT_HASH\\\")\" /tmp/vault-audit.log"
   ]
  },
  {
   "cell_type": "markdown",
   "id": "6f95d60d-d350-4c85-8e68-60b4e5d2e908",
   "metadata": {},
   "source": [
    "### Your Turn\n",
    "\n",
    "Ok, now it is your turn. The credential pair `admin:supersecret` was leaked and is available in the dark web! The credential as since been rotated everywhere where this account was used: the cache and the database. However, we are unsure how this was leaked. Did an attacked get access to the cache or to the database accounts? We want to investigate whether the attacker retrieved these credentials directly from Vault.\n",
    "\n",
    "Retrieve all audit logs that are responses and contain `admin` in the username and `supersecret` in the password.\n",
    "\n",
    "> Note: that is why credentials should never be reused. When credentials are only used in one place, not only is the rotation easier, but it is also trivial to pinpoint which system was compromised during the leak."
   ]
  },
  {
   "cell_type": "code",
   "execution_count": null,
   "id": "93492bba-6c32-48c7-b245-a2ccbe115c64",
   "metadata": {},
   "outputs": [],
   "source": [
    "vault write -field=hash /sys/audit-hash/file input='...'"
   ]
  },
  {
   "cell_type": "code",
   "execution_count": null,
   "id": "cd05d24a-eed6-4c84-b74a-4bb644539ace",
   "metadata": {},
   "outputs": [],
   "source": [
    "vault write -field=hash /sys/audit-hash/file input='...'"
   ]
  },
  {
   "cell_type": "code",
   "execution_count": null,
   "id": "2f21e36f-3fbf-43e6-af29-b70c74067af4",
   "metadata": {},
   "outputs": [],
   "source": [
    "jq 'select(.response.... == \"...\" and .response... == \"...\")' /tmp/vault-audit.log"
   ]
  },
  {
   "cell_type": "markdown",
   "id": "31a7ac80-51f7-4f52-8eb7-91c89e1dd387",
   "metadata": {},
   "source": [
    "#### Which component retrieved the credential?"
   ]
  },
  {
   "cell_type": "markdown",
   "id": "a4f7ffa0-2d84-484f-a5c5-b72baba24aea",
   "metadata": {},
   "source": [
    "## Cleaning Up\n",
    "\n",
    "At the end of each module, you should clean up your Vault instance. This is done by shutting it down and wiping its database to restore its state."
   ]
  },
  {
   "cell_type": "code",
   "execution_count": null,
   "id": "af3cabe1-658c-4461-aa9a-573da693c126",
   "metadata": {},
   "outputs": [],
   "source": [
    "kill $(cat /tmp/vault.pid)\n",
    "rm /tmp/vault.log\n",
    "rm /tmp/vault.pid\n",
    "rm /tmp/vault-audit.log"
   ]
  }
 ],
 "metadata": {
  "kernelspec": {
   "display_name": "Bash",
   "language": "bash",
   "name": "bash"
  },
  "language_info": {
   "codemirror_mode": "shell",
   "file_extension": ".sh",
   "mimetype": "text/x-sh",
   "name": "bash"
  }
 },
 "nbformat": 4,
 "nbformat_minor": 5
}
